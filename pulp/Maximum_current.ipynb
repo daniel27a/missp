{
  "nbformat": 4,
  "nbformat_minor": 0,
  "metadata": {
    "colab": {
      "name": "Maximum_current.ipynb",
      "provenance": [],
      "authorship_tag": "ABX9TyO4gR71Z+S/4V6eQwztyFiJ",
      "include_colab_link": true
    },
    "kernelspec": {
      "name": "python3",
      "display_name": "Python 3"
    }
  },
  "cells": [
    {
      "cell_type": "markdown",
      "metadata": {
        "id": "view-in-github",
        "colab_type": "text"
      },
      "source": [
        "<a href=\"https://colab.research.google.com/github/daniel27a/missp/blob/main/pulp/Maximum_current.ipynb\" target=\"_parent\"><img src=\"https://colab.research.google.com/assets/colab-badge.svg\" alt=\"Open In Colab\"/></a>"
      ]
    },
    {
      "cell_type": "markdown",
      "metadata": {
        "id": "I1YIEChH5u2p"
      },
      "source": [
        "Notebook zawiera rozwiązanie problemu liniowego przy pomocy narzędzia Pulp.\n",
        "\n",
        "Poniższa komórka tekstu zawiera instrukcję instalującą dodatek Pulp do Notebooka"
      ]
    },
    {
      "cell_type": "code",
      "metadata": {
        "id": "aRbau9V05uPG"
      },
      "source": [
        "!pip install pulp\n",
        "\n",
        "!sudo apt-get install coinor-cbc glpk-utils coinor-clp"
      ],
      "execution_count": null,
      "outputs": []
    },
    {
      "cell_type": "markdown",
      "metadata": {
        "id": "9T7P6jwd5vJA"
      },
      "source": [
        ""
      ]
    },
    {
      "cell_type": "code",
      "metadata": {
        "id": "nKX4dIfJ5vb4"
      },
      "source": [
        "\"\"\"\n",
        "Maksymalizacja prądu - dwójnik rezystancyjny\n",
        "\n",
        "https://www.youtube.com/watch?v=buPWuzar384\n",
        "\n",
        "\"\"\"\n",
        "\n",
        "import numpy as np\n",
        "from pulp import *\n",
        "\n",
        "prob = LpProblem(\"Maksymalizacja prądu w dwójniku rezystorowym\",LpMaximize)\n",
        "\n",
        "# Variables (name, Lo, Hi, Type)\n",
        "\n",
        "i1=LpVariable(\"I1\", 0, 2, LpContinuous)\n",
        "i2=LpVariable(\"I2\", 0, 3, LpContinuous)\n",
        "i3=LpVariable(\"I3\", 0, 4, LpContinuous)\n",
        "i4=LpVariable(\"I4\", 0, 2, LpContinuous)\n",
        "i5=LpVariable(\"I5\", 0, 2, LpContinuous)\n",
        " \n",
        "\n",
        "# Constants\n",
        "R = (8.0, 6.0, 4.0, 10.0, 8.0)\n",
        "\n",
        "# Main problem\n",
        "prob += i1+i2+i3+i4+i5, \"max current\"\n",
        "\n",
        "# Constraints\n",
        "prob += i1+i2 == i3, \"1\" \n",
        "prob += i3-i4 == i5, \"2\"\n",
        "prob += i1*R[0] - i2*R[1] == 0, \"3\"\n",
        "prob += i4*R[3] - i5*R[4] == 0, \"4\"\n",
        "\n",
        "prob.writeLP(\"dwojnik.lp\")\n",
        "\n",
        "prob.solve()\n",
        "print(\"Status:\", LpStatus[prob.status])\n",
        "\n",
        "Imax = 0\n",
        "for v in prob.variables():\n",
        "    print(v.name, \"=\", v.varValue, \"A\")\n",
        "    if (v.varValue >= Imax):\n",
        "      Imax = v.varValue \n",
        "    \n",
        "print()\n",
        "print(\"Suma prądów:\", value(prob.objective), \"A\\n\") \n",
        "print(\"Imax = \", Imax, \"A\\n\") "
      ],
      "execution_count": null,
      "outputs": []
    }
  ]
}