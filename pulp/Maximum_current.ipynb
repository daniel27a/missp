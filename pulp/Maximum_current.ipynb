{
  "nbformat": 4,
  "nbformat_minor": 0,
  "metadata": {
    "colab": {
      "name": "Maximum_current.ipynb",
      "provenance": [],
      "authorship_tag": "ABX9TyNF49kZ+ZJMSIy+XQhiDxun",
      "include_colab_link": true
    },
    "kernelspec": {
      "name": "python3",
      "display_name": "Python 3"
    }
  },
  "cells": [
    {
      "cell_type": "markdown",
      "metadata": {
        "id": "view-in-github",
        "colab_type": "text"
      },
      "source": [
        "<a href=\"https://colab.research.google.com/github/daniel27a/missp/blob/main/pulp/Maximum_current.ipynb\" target=\"_parent\"><img src=\"https://colab.research.google.com/assets/colab-badge.svg\" alt=\"Open In Colab\"/></a>"
      ]
    },
    {
      "cell_type": "markdown",
      "metadata": {
        "id": "I1YIEChH5u2p"
      },
      "source": [
        "#Wykonał:\n",
        "##Daniel Sobczak\n",
        "###215342 7AiR2\n",
        "\n",
        "Notebook zawiera rozwiązanie problemu liniowego przy pomocy narzędzia Pulp.\n",
        "\n",
        "Poniższa komórka kodu zawiera instrukcję instalującą dodatek Pulp do Notebooka."
      ]
    },
    {
      "cell_type": "code",
      "metadata": {
        "id": "aRbau9V05uPG"
      },
      "source": [
        "!pip install pulp\n",
        "\n",
        "!sudo apt-get install coinor-cbc glpk-utils coinor-clp"
      ],
      "execution_count": null,
      "outputs": []
    },
    {
      "cell_type": "markdown",
      "metadata": {
        "id": "9T7P6jwd5vJA"
      },
      "source": [
        ">Poniższy problem liniowy dotyczy maksymalizacji prądu w układzie pokazanym na rysunku poniżej:\r\n",
        "![](https://github.com/daniel27a/missp/blob/main/photos/Maximum_current.png?raw=true)\r\n",
        "\r\n",
        ">Rezystancje poszczególnych rezystorów oraz maksymalne prądy, jakie mogą przepłynąć przez daną gałąź oznaczono w tabeli poniżej:\r\n",
        "\r\n",
        " n | R | Imax   \r\n",
        "---|---|--- \r\n",
        "1 | 8 | 2 \r\n",
        "2 | 6 | 3 \r\n",
        "3 | 4 | 4 \r\n",
        "4 | 10 | 2 \r\n",
        "5 | 8 | 2\r\n",
        "\r\n",
        ">Zmiennymi decyzyjnymi w przypadku tego modelu były prądy. Zostały zadeklarowane jako zmienne zmiennoprzecinkowe. Nałożone zostało na nie górne ograniczenie według powyżej przedstawionej tabeli, oraz dolne ograniczenie ponieważ prądy nie mogą być w tym przypadku mniejsze od zera.\r\n",
        "\r\n",
        ">Stałymi pomocniczymi były rezystancje rezystorów.\r\n",
        "\r\n",
        ">Głównym równaniem była suma wszystkich prądów w układzie. Dodatkowe ograniczenia wynikały z prądowego  i napięciowego prawa Kirchhoffa. Pierwsze z nich mówi o tym, że suma prądów wpływających do węzła musi równać się sumie prądów z niego wypływających. Prawo napięciowe mówi o tym, że suma napięć w oczku musi się równać zeru.\r\n",
        "\r\n",
        ">Wynikiem programu są obliczone maksymalne prądy dla tego przypadku. Dodatkowo program odnajduje największy z nich.\r\n",
        "\r\n",
        ">Wynik programu:\r\n",
        "\r\n",
        "```\r\n",
        "Status of problem: Optimal \r\n",
        "\r\n",
        "I1 = 1.5428571 A\r\n",
        "I2 = 2.0571429 A\r\n",
        "I3 = 3.6 A\r\n",
        "I4 = 1.6 A\r\n",
        "I5 = 2.0 A\r\n",
        "\r\n",
        "Imax =  3.6 A\r\n",
        "```"
      ]
    },
    {
      "cell_type": "code",
      "metadata": {
        "id": "nKX4dIfJ5vb4",
        "colab": {
          "base_uri": "https://localhost:8080/"
        },
        "outputId": "6db50638-e2d9-4f24-d416-73e25b9319e8"
      },
      "source": [
        "\"\"\"\n",
        "Link to description\n",
        "https://www.youtube.com/watch?v=buPWuzar384\n",
        "\n",
        "\"\"\"\n",
        "\n",
        "import numpy as np\n",
        "from pulp import *\n",
        "\n",
        "# Name and type of problem\n",
        "prob = LpProblem(\"Current maximize in resistance circuit\",LpMaximize)\n",
        "\n",
        "# The 5 variables of currents with up and down limits.\n",
        "i1=LpVariable(\"I1\", 0, 2, LpContinuous)\n",
        "i2=LpVariable(\"I2\", 0, 3, LpContinuous)\n",
        "i3=LpVariable(\"I3\", 0, 4, LpContinuous)\n",
        "i4=LpVariable(\"I4\", 0, 2, LpContinuous)\n",
        "i5=LpVariable(\"I5\", 0, 2, LpContinuous)\n",
        " \n",
        "# Constants of resistances\n",
        "R = (8.0, 6.0, 4.0, 10.0, 8.0)\n",
        "\n",
        "# The main function for sum of currents in the circuit\n",
        "prob += i1+i2+i3+i4+i5, \"max current\"\n",
        "\n",
        "# Constraints resulting from Kirchhoff's current and voltage laws\n",
        "prob += i1+i2 == i3, \"1\" \n",
        "prob += i3-i4 == i5, \"2\"\n",
        "prob += i1*R[0] - i2*R[1] == 0, \"3\"\n",
        "prob += i4*R[3] - i5*R[4] == 0, \"4\"\n",
        "\n",
        "prob.writeLP(\"Resistance_circuit.lp\")\n",
        "\n",
        "# The solution of problem\n",
        "prob.solve()\n",
        "print(\"Status of problem:\", LpStatus[prob.status], \"\\n\")\n",
        "\n",
        "# List currents and find the greatest one\n",
        "Imax = 0\n",
        "for v in prob.variables():\n",
        "    print(v.name, \"=\", v.varValue, \"A\")\n",
        "    if (v.varValue >= Imax):\n",
        "      Imax = v.varValue \n",
        "print()\n",
        "\n",
        "print(\"Imax = \", Imax, \"A\\n\") "
      ],
      "execution_count": null,
      "outputs": [
        {
          "output_type": "stream",
          "text": [
            "Status of problem: Optimal \n",
            "\n",
            "I1 = 1.5428571 A\n",
            "I2 = 2.0571429 A\n",
            "I3 = 3.6 A\n",
            "I4 = 1.6 A\n",
            "I5 = 2.0 A\n",
            "\n",
            "Imax =  3.6 A\n",
            "\n"
          ],
          "name": "stdout"
        },
        {
          "output_type": "stream",
          "text": [
            "/usr/local/lib/python3.6/dist-packages/pulp/pulp.py:1198: UserWarning: Spaces are not permitted in the name. Converted to '_'\n",
            "  warnings.warn(\"Spaces are not permitted in the name. Converted to '_'\")\n"
          ],
          "name": "stderr"
        }
      ]
    }
  ]
}