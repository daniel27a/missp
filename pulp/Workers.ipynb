{
  "nbformat": 4,
  "nbformat_minor": 0,
  "metadata": {
    "colab": {
      "name": "Workers.ipynb",
      "provenance": [],
      "authorship_tag": "ABX9TyNjyx7KbFs9a9UoMdz5q0AH",
      "include_colab_link": true
    },
    "kernelspec": {
      "name": "python3",
      "display_name": "Python 3"
    }
  },
  "cells": [
    {
      "cell_type": "markdown",
      "metadata": {
        "id": "view-in-github",
        "colab_type": "text"
      },
      "source": [
        "<a href=\"https://colab.research.google.com/github/daniel27a/missp/blob/main/pulp/Workers.ipynb\" target=\"_parent\"><img src=\"https://colab.research.google.com/assets/colab-badge.svg\" alt=\"Open In Colab\"/></a>"
      ]
    },
    {
      "cell_type": "markdown",
      "metadata": {
        "id": "44QEoewg6Ica"
      },
      "source": [
        "Notebook zawiera rozwiązanie problemu liniowego przy pomocy narzędzia Pulp.\n",
        "\n",
        "Poniższa komórka tekstu zawiera instrukcję instalującą dodatek Pulp do Notebooka"
      ]
    },
    {
      "cell_type": "code",
      "metadata": {
        "id": "dFBrDWBp6H1A"
      },
      "source": [
        "!pip install pulp\n",
        "\n",
        "!sudo apt-get install coinor-cbc glpk-utils coinor-clp"
      ],
      "execution_count": null,
      "outputs": []
    },
    {
      "cell_type": "markdown",
      "metadata": {
        "id": "N870ByZC6IuI"
      },
      "source": [
        ""
      ]
    },
    {
      "cell_type": "code",
      "metadata": {
        "id": "0W3ejJ8i6I9I"
      },
      "source": [
        "\"\"\"\n",
        "Workers optimalization.\n",
        "\n",
        "Link to description: \n",
        "https://www.youtube.com/watch?v=Our22Z6-FDg\n",
        "\n",
        "\"\"\"\n",
        "\n",
        "\n",
        "from pulp import *\n",
        "\n",
        "prob = LpProblem(\"Optymalizacja_pracownikow\",LpMinimize)\n",
        "\n",
        "### Variables (name, Lo, Hi, Type) Ania Stefan Hektor Olaf Lidia Piotr\n",
        "A1 = LpVariable(\"Ania_pon\", 0, 1, LpInteger)\n",
        "A2 = LpVariable(\"Ania_wt\", 0, 1, LpInteger)\n",
        "A3 = LpVariable(\"Ania_sr\", 0, 1, LpInteger)\n",
        "A4 = LpVariable(\"Ania_czw\", 0, 1, LpInteger)\n",
        "A5 = LpVariable(\"Ania_pt\", 0, 1, LpInteger)\n",
        "S1 = LpVariable(\"Stefan_pon\", 0, 1, LpInteger)\n",
        "S2 = LpVariable(\"Stefan_wt\", 0, 1, LpInteger)\n",
        "S3 = LpVariable(\"Stefan_sr\", 0, 1, LpInteger)\n",
        "S4 = LpVariable(\"Stefan_czw\", 0, 1, LpInteger)\n",
        "S5 = LpVariable(\"Stefan_pt\", 0, 1, LpInteger)\n",
        "H1 = LpVariable(\"Hektor_pon\", 0, 1, LpInteger)\n",
        "H2 = LpVariable(\"Hektor_wt\", 0, 1, LpInteger)\n",
        "H3 = LpVariable(\"Hektor_sr\", 0, 1, LpInteger)\n",
        "H4 = LpVariable(\"Hektor_czw\", 0, 1, LpInteger)\n",
        "H5 = LpVariable(\"Hektor_pt\", 0, 1, LpInteger)\n",
        "O1 = LpVariable(\"Olaf_pon\", 0, 1, LpInteger)\n",
        "O2 = LpVariable(\"Olaf_wt\", 0, 1, LpInteger)\n",
        "O3 = LpVariable(\"Olaf_sr\", 0, 1, LpInteger)\n",
        "O4 = LpVariable(\"Olaf_czw\", 0, 1, LpInteger)\n",
        "O5 = LpVariable(\"Olaf_pt\", 0, 1, LpInteger)\n",
        "L1 = LpVariable(\"Lidia_pon\", 0, 1, LpInteger)\n",
        "L2 = LpVariable(\"Lidia_wt\", 0, 1, LpInteger)\n",
        "L3 = LpVariable(\"Lidia_sr\", 0, 1, LpInteger)\n",
        "L4 = LpVariable(\"Lidia_czw\", 0, 1, LpInteger)\n",
        "L5 = LpVariable(\"Lidia_pt\", 0, 1, LpInteger)\n",
        "P1 = LpVariable(\"Piotr_pon\", 0, 1, LpInteger)\n",
        "P2 = LpVariable(\"Piotr_wt\", 0, 1, LpInteger)\n",
        "P3 = LpVariable(\"Piotr_sr\", 0, 1, LpInteger)\n",
        "P4 = LpVariable(\"Piotr_czw\", 0, 1, LpInteger)\n",
        "P5 = LpVariable(\"Piotr_pt\", 0, 1, LpInteger)\n",
        "\n",
        "\n",
        "### Constants\n",
        "Ac = 100\n",
        "Sc = 50\n",
        "Hc = 60\n",
        "Oc = 40\n",
        "Lc = 110\n",
        "Pc = 70\n",
        "\n",
        "### Main problem\n",
        "prob += (A1+A2+A3+A4+A5) * Ac + (S1+S2+S3+S4+S5) * Sc + (H1+H2+H3+H4+H5) * Hc + (O1+O2+O3+O4+O5) * Oc + (L1+L2+L3+L4+L5) * Lc + (P1+P2+P3+P4+P5) * Pc, \"min_cost\"\n",
        "\n",
        "### Constraints\n",
        "# ilość dniówek\n",
        "prob += A1+A2+A3+A4+A5 <= 3, \"1\" \n",
        "prob += S1+S2+S3+S4+S5 <= 3, \"2\" \n",
        "prob += H1+H2+H3+H4+H5 <= 3, \"3\" \n",
        "prob += O1+O2+O3+O4+O5 <= 3, \"4\"\n",
        "prob += L1+L2+L3+L4+L5 <= 3, \"5\"\n",
        "prob += P1+P2+P3+P4+P5 <= 3, \"6\"\n",
        "\n",
        "# kiedy pracownicy mogą pracować\n",
        "prob += S2+S3+S4+S5 == 0 , \"7\"\n",
        "prob += H4+H5 == 0, \"8\"\n",
        "prob += L1+L2+L3 == 0, \"9\"\n",
        "prob += P4+P5 == 0, \"10\"\n",
        "\n",
        "#ilość ludzi na sklepie w dany dzień\n",
        "prob += A1+S1+H1+O1+L1+P1 == 2, \"Pon\"\n",
        "prob += A2+S2+H2+O2+L2+P2 == 1, \"Wt\"\n",
        "prob += A3+S3+H3+O3+L3+P3 == 1, \"Sr\"\n",
        "prob += A4+S4+H4+O4+L4+P4 == 1, \"Czw\"\n",
        "prob += A5+S5+H5+O5+L5+P5 == 3, \"Pt\"\n",
        "\n",
        "\n",
        "prob.writeLP(\"week.lp\")\n",
        "\n",
        "prob.solve()\n",
        "print(\"Status:\", LpStatus[prob.status])\n",
        "\n",
        "print(\"Calkowity koszt:\", value(prob.objective), \"zl\\n\") \n",
        "\n",
        "for v in prob.variables():\n",
        "    print(v.name, \"=\", v.varValue)"
      ],
      "execution_count": null,
      "outputs": []
    }
  ]
}