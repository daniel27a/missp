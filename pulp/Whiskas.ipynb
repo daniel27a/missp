{
  "nbformat": 4,
  "nbformat_minor": 0,
  "metadata": {
    "colab": {
      "name": "Whiskas.ipynb",
      "provenance": [],
      "authorship_tag": "ABX9TyPiQ/Il0wXmlPgFDumpsjlB",
      "include_colab_link": true
    },
    "kernelspec": {
      "name": "python3",
      "display_name": "Python 3"
    }
  },
  "cells": [
    {
      "cell_type": "markdown",
      "metadata": {
        "id": "view-in-github",
        "colab_type": "text"
      },
      "source": [
        "<a href=\"https://colab.research.google.com/github/daniel27a/missp/blob/main/pulp/Whiskas.ipynb\" target=\"_parent\"><img src=\"https://colab.research.google.com/assets/colab-badge.svg\" alt=\"Open In Colab\"/></a>"
      ]
    },
    {
      "cell_type": "markdown",
      "metadata": {
        "id": "UB-G9eZrx9NX"
      },
      "source": [
        "#Wykonał: \n",
        "##Daniel Sobczak \n",
        "###215342 7AiR2\n",
        "\n",
        "Notebook zawiera rozwiązanie problemu liniowego przy pomocy narzędzia Pulp.\n",
        "\n",
        "Poniższa komórka kodu zawiera instrukcję instalującą dodatek Pulp do Notebooka. \n"
      ]
    },
    {
      "cell_type": "code",
      "metadata": {
        "id": "vLHAXv_Rx6rI"
      },
      "source": [
        "!pip install pulp\n",
        "\n",
        "!sudo apt-get install coinor-cbc glpk-utils coinor-clp"
      ],
      "execution_count": null,
      "outputs": []
    },
    {
      "cell_type": "markdown",
      "metadata": {
        "id": "b9WDkrgK1uXo"
      },
      "source": [
        ">Poniższy problem liniowy dotyczy minimalizacji kosztów produkcji puszki karmy dla kotów. Zmiennymi decyzyjnymi jest procentowa zawartość każdego ze składników w puszce. W badanym przypadku jest to kurczak, wołowina oraz sardynki. Każdy ze składników charakteryzuje się inną zawartością białka, tłuszczu, błonnika, soli oraz witaminy B3.\n",
        "\n",
        "Składnik | Białko | Tłuszcz | Błonnik | Sól | Witamina B | Cena za gram\n",
        "---|---|---|---|---|---|---\n",
        "Kurczak | 0.1 | 0.08 | 0.001 | 0.002 | 0.003 | 0.013\n",
        "Wołowina | 0.2 | 0.1 | 0.005 | 0.005 | 0.26 | 0.008\n",
        "Sardynki | 0.25 | 0.11 | 0 | 0.00505 | 0.089 | 0.007\n",
        "\n",
        "\n",
        ">Podstawowym ograniczeniem nałożonym na nasz produkt jest konieczność zapełnienia całej puszki, tj. suma procentowa wszystkich składników musi się równać 100%. Oprócz tego, w przypadku minimalizacji, musimy uwzględnić minimalną wartość każdej zmiennej czyli 0%.\n",
        "  \n",
        ">Kolejnymi ograniczeniami były minimalne oraz maksymalne zawartości mikro i makro składników na puszkę karmy. Koniecznym jest osiągnięcie minimalnej wymaganej zawartości wartościowych składników takich jak białko, tłuszcz i witamina oraz nieprzekroczenie pewnej zawartości błonnika oraz soli. \n",
        "\n",
        ">Dla uproszczenia przyjęto, że jeden gram produktu to 1% zawartości puszki.\n",
        "\n",
        ">Znając cenę składników możemy przejść do rozwiązania problemu. Program zwraca procentową zawartość każdego ze składników oraz cenę wyprodukowania jednej puszki karmy. Informacja zostaje przekazana w postaci jednego zdania zawierającego wszystkie potrzebne informacje.\n",
        "\n",
        ">Zmieniając cenę wpływamy na zawartość procentową poszczególnych składników.\n",
        "W przypadku cen wpisanych w tabelę, skład produktu przedstawia wynik programu poniżej:\n",
        "```\n",
        "Status of problem: Optimal\n",
        "Beef = 0.0 %\n",
        "Chicken = 34.42623 %\n",
        "Sardines = 65.57377 %\n",
        "A can of product will cost 0.90655738 $ and will contain: 0.0% of Beef, 34.42623% of Chicken, 65.57377% of Sardines,\n",
        "```\n",
        "\n",
        "\n"
      ]
    },
    {
      "cell_type": "code",
      "metadata": {
        "id": "0mP6zqaD1u4f",
        "colab": {
          "base_uri": "https://localhost:8080/"
        },
        "outputId": "b553d75b-dbdd-4c19-a3a6-edfc75714430"
      },
      "source": [
        "from pulp import *\n",
        "\n",
        "# Name and type of problem\n",
        "prob = LpProblem(\"The Whiskas' Cat Food Problem\",LpMinimize)\n",
        "\n",
        "# The 3 variables of Beef, Chicken and Sardines percentages are created with a lower limit of zero\n",
        "x1=LpVariable(\"Chicken\",0,)\n",
        "x2=LpVariable(\"Beef\",0)\n",
        "x3=LpVariable(\"Sardines\",0)\n",
        "\n",
        "# The objective function is added to 'prob' first\n",
        "prob += 0.013*x1 + 0.008*x2 + 0.007*x3, \"Total Cost of Ingredients per can\"\n",
        "\n",
        "# The six constraints are added to the problem \n",
        "prob += x1 + x2 + x3 == 100, \"PercentagesSum\"\n",
        "prob += 0.100*x1 + 0.200*x2 + 0.25*x3 >= 8.0, \"ProteinRequirement\"\n",
        "prob += 0.080*x1 + 0.100*x2 + 0.11*x3 >= 6.0, \"FatRequirement\"\n",
        "prob += 0.001*x1 + 0.005*x2 + 0*x3 <= 2.0, \"FibreRequirement\"\n",
        "prob += 0.002*x1 + 0.005*x2 + 0.00505*x3 <= 0.4, \"SaltRequirement\"\n",
        "prob += 0.003*x1 + 0.026*x2 + 0.089*x3 >= 0.8, \"VitaminBreq\" \n",
        "\n",
        "prob.writeLP(\"WhiskasModel.lp\")\n",
        "\n",
        "# The solution of problem\n",
        "prob.solve()\n",
        "print(\"Status of problem:\", LpStatus[prob.status])\n",
        "\n",
        "# Listing of percentage content\n",
        "for v in prob.variables():\n",
        "    print(v.name, \"=\", v.varValue,'%')\n",
        "\n",
        "# String to creating a summary sentence\n",
        "percentages = \"\"\n",
        "\n",
        "for v in prob.variables():\n",
        "    percentages += str(v.varValue) + \"% of \" + v.name + \", \"\n",
        "\n",
        "# The summary sentence\n",
        "print(\"A can of product will cost\", value(prob.objective), \"$ and will contain:\", percentages)\n",
        "\n",
        "print()"
      ],
      "execution_count": 22,
      "outputs": [
        {
          "output_type": "stream",
          "text": [
            "Status of problem: Optimal\n",
            "Beef = 0.0 %\n",
            "Chicken = 34.42623 %\n",
            "Sardines = 65.57377 %\n",
            "A can of product will cost 0.90655738 $ and will contain: 0.0% of Beef, 34.42623% of Chicken, 65.57377% of Sardines, \n",
            "\n"
          ],
          "name": "stdout"
        },
        {
          "output_type": "stream",
          "text": [
            "/usr/local/lib/python3.6/dist-packages/pulp/pulp.py:1198: UserWarning: Spaces are not permitted in the name. Converted to '_'\n",
            "  warnings.warn(\"Spaces are not permitted in the name. Converted to '_'\")\n"
          ],
          "name": "stderr"
        }
      ]
    }
  ]
}