{
  "nbformat": 4,
  "nbformat_minor": 0,
  "metadata": {
    "colab": {
      "name": "Whiskas.ipynb",
      "provenance": [],
      "authorship_tag": "ABX9TyMNcIVdbDZjptpLD7LzC66v",
      "include_colab_link": true
    },
    "kernelspec": {
      "name": "python3",
      "display_name": "Python 3"
    }
  },
  "cells": [
    {
      "cell_type": "markdown",
      "metadata": {
        "id": "view-in-github",
        "colab_type": "text"
      },
      "source": [
        "<a href=\"https://colab.research.google.com/github/daniel27a/missp/blob/main/pulp/Whiskas.ipynb\" target=\"_parent\"><img src=\"https://colab.research.google.com/assets/colab-badge.svg\" alt=\"Open In Colab\"/></a>"
      ]
    },
    {
      "cell_type": "markdown",
      "metadata": {
        "id": "UB-G9eZrx9NX"
      },
      "source": [
        "Notebook zawiera rozwiązanie problemu liniowego przy pomocy narzędzia Pulp.\n",
        "\n",
        "Poniższa komórka tekstu zawiera instrukcję instalującą dodatek Pulp do Notebooka. \n"
      ]
    },
    {
      "cell_type": "code",
      "metadata": {
        "id": "vLHAXv_Rx6rI"
      },
      "source": [
        "!pip install pulp\n",
        "\n",
        "!sudo apt-get install coinor-cbc glpk-utils coinor-clp"
      ],
      "execution_count": null,
      "outputs": []
    },
    {
      "cell_type": "markdown",
      "metadata": {
        "id": "b9WDkrgK1uXo"
      },
      "source": [
        ""
      ]
    },
    {
      "cell_type": "code",
      "metadata": {
        "id": "0mP6zqaD1u4f"
      },
      "source": [
        "\"\"\"\n",
        "The Simplified Whiskas Model Python Formulation for the PuLP Modeller\n",
        "\n",
        "\n",
        "\n",
        "\"\"\"\n",
        "\n",
        "from pulp import *\n",
        "\n",
        "prob = LpProblem(\"The Whiskas' Cat Food Problem\",LpMinimize)\n",
        "\n",
        "# The 2 variables Beef and Chicken are created with a lower limit of zero\n",
        "x1=LpVariable(\"ChickenPercent\",0,)\n",
        "x2=LpVariable(\"BeefPercent\",0)\n",
        "x3=LpVariable(\"SardinesPercent\",0)\n",
        "\n",
        "# The objective function is added to 'prob' first\n",
        "prob += 0.013*x1 + 0.008*x2 + 0.01*x3, \"Total Cost of Ingredients per can\"\n",
        "\n",
        "# The five constraints are entered\n",
        "prob += x1 + x2 + x3 == 100, \"PercentagesSum\"\n",
        "prob += 0.100*x1 + 0.200*x2 + 0.25*x3 >= 8.0, \"ProteinRequirement\"\n",
        "prob += 0.080*x1 + 0.100*x2 + 0.11*x3 >= 6.0, \"FatRequirement\"\n",
        "prob += 0.001*x1 + 0.005*x2 + 0*x3 <= 2.0, \"FibreRequirement\"\n",
        "prob += 0.002*x1 + 0.005*x2 + 0.00505*x3 <= 0.4, \"SaltRequirement\"\n",
        "prob += 0.003*x1 + 0.026*x2 + 0.089*x3 >= 0.8, \"VitaminBreq\" \n",
        "\n",
        "prob.writeLP(\"WhiskasModel.lp\")\n",
        "\n",
        "prob.solve()\n",
        "print(\"Status:\", LpStatus[prob.status])\n",
        "\n",
        "for v in prob.variables():\n",
        "    print(v.name, \"=\", v.varValue)\n",
        "\n",
        "produkty_procentowo = \"\"\n",
        "\n",
        "for v in prob.variables():\n",
        "    produkty_procentowo += v.name + \" = \" + str(v.varValue)+ \"%, \" \n",
        "\n",
        "produkty_procentowo = produkty_procentowo[:-2]\n",
        "\n",
        "print(\"Puszka produktu będzie kosztować \", value(prob.objective), \"$ i będzie miał w składzie:\", produkty_procentowo,\".\")\n",
        "\n",
        "print(\"-\"*30)"
      ],
      "execution_count": null,
      "outputs": []
    }
  ]
}