{
  "nbformat": 4,
  "nbformat_minor": 0,
  "metadata": {
    "colab": {
      "name": "Resistor_bridge.ipynb",
      "provenance": [],
      "authorship_tag": "ABX9TyOFl5DQ32wh+wre5R1Bo35p",
      "include_colab_link": true
    },
    "kernelspec": {
      "name": "python3",
      "display_name": "Python 3"
    }
  },
  "cells": [
    {
      "cell_type": "markdown",
      "metadata": {
        "id": "view-in-github",
        "colab_type": "text"
      },
      "source": [
        "<a href=\"https://colab.research.google.com/github/daniel27a/missp/blob/main/pulp/Resistor_bridge.ipynb\" target=\"_parent\"><img src=\"https://colab.research.google.com/assets/colab-badge.svg\" alt=\"Open In Colab\"/></a>"
      ]
    },
    {
      "cell_type": "markdown",
      "metadata": {
        "id": "YicUP7SW4_fh"
      },
      "source": [
        "#Wykonał:\n",
        "##Daniel Sobczak\n",
        "###215342 7AiR2\n",
        "\n",
        "Notebook zawiera rozwiązanie problemu liniowego przy pomocy narzędzia Pulp.\n",
        "\n",
        "Poniższa komórka kodu zawiera instrukcję instalującą dodatek Pulp do Notebooka."
      ]
    },
    {
      "cell_type": "code",
      "metadata": {
        "id": "XKCDnRkS43Nx"
      },
      "source": [
        "!pip install pulp\n",
        "\n",
        "!sudo apt-get install coinor-cbc glpk-utils coinor-clp"
      ],
      "execution_count": null,
      "outputs": []
    },
    {
      "cell_type": "markdown",
      "metadata": {
        "id": "WB6JBcTZ4_vo"
      },
      "source": [
        "Poniższy problem liniowy dotyczy minimalizacji mocy rozproszonej w dwójniku rezystorowym przedstawionym na rysunku poniżej:\r\n",
        "\r\n",
        "![github-small](http://https://github.com/daniel27a/missp/blob/main/photos/download.png)\r\n",
        "\r\n",
        "\r\n",
        "\r\n",
        "\r\n",
        "\r\n",
        "\r\n",
        "\r\n",
        "\r\n"
      ]
    },
    {
      "cell_type": "code",
      "metadata": {
        "id": "u34-P5nx5AC4",
        "colab": {
          "base_uri": "https://localhost:8080/"
        },
        "outputId": "ef0ba5ec-6089-4ced-9301-b1cb51cb6108"
      },
      "source": [
        "\"\"\"\n",
        "Link to description:\n",
        "https://www.youtube.com/watch?v=yZuVfekIXJ0\n",
        "\n",
        "\"\"\"\n",
        "\n",
        "import numpy as np\n",
        "from pulp import *\n",
        "\n",
        "# Name and type of problem\n",
        "prob = LpProblem(\"Minimalization od diffused power in resistor bridge\",LpMinimize)\n",
        "\n",
        "# The 5 variables of currents with up and down limits.\n",
        "i1=LpVariable(\"I1\", 0.003, 0.005, LpContinuous)\n",
        "i2=LpVariable(\"I2\", 0.001, 0.003, LpContinuous)\n",
        "i3=LpVariable(\"I3\", 0.001, 0.003, LpContinuous)\n",
        "i4=LpVariable(\"I4\", 0.001, 0.003, LpContinuous)\n",
        "i5=LpVariable(\"I5\", 0.003, 0.005, LpContinuous)\n",
        " \n",
        "# Constants of voltages\n",
        "U = (6.0, 10.0, 4.0, 7.0, 3.0)\n",
        "\n",
        "# The main function for total power in the circuit\n",
        "prob += U[0]*i1 + U[1]*i2 + U[2]*i3 + U[3]*i4 + U[4]*i5, \"Total Power\"\n",
        "\n",
        "# Constraints resulting from Kirchhoff's current law\n",
        "prob += i1-i3 == i4, \"KI1\" \n",
        "prob += i2+i3 == i5, \"KI2\"\n",
        "\n",
        "prob.writeLP(\"ResistorBridge.lp\")\n",
        "\n",
        "# The solution of problem\n",
        "prob.solve()\n",
        "print(\"Status of problem:\", LpStatus[prob.status])\n",
        "\n",
        "for v in prob.variables():\n",
        "    print(v.name, \"=\", v.varValue)\n",
        "print()\n",
        "\n",
        "# Sum of power loss\n",
        "print(\"Power loss:\", value(prob.objective), \"W\\n\")  \n",
        "\n",
        "# Listing of resistances of resistors resulting from Ohm's law\n",
        "for v, k in zip(U, prob.variables()):\n",
        "  print(\"R\",U.index(v)+1,\"=\",(v/k.varValue/1000),\"k ohm\") "
      ],
      "execution_count": null,
      "outputs": [
        {
          "output_type": "stream",
          "text": [
            "Status: Optimal\n",
            "I1 = 0.003\n",
            "I2 = 0.001\n",
            "I3 = 0.002\n",
            "I4 = 0.001\n",
            "I5 = 0.003\n",
            "\n",
            "Power loss: 0.052000000000000005 W\n",
            "\n",
            "R 1 = 2.0 k ohm\n",
            "R 2 = 10.0 k ohm\n",
            "R 3 = 2.0 k ohm\n",
            "R 4 = 7.0 k ohm\n",
            "R 5 = 1.0 k ohm\n"
          ],
          "name": "stdout"
        },
        {
          "output_type": "stream",
          "text": [
            "/usr/local/lib/python3.6/dist-packages/pulp/pulp.py:1198: UserWarning: Spaces are not permitted in the name. Converted to '_'\n",
            "  warnings.warn(\"Spaces are not permitted in the name. Converted to '_'\")\n"
          ],
          "name": "stderr"
        }
      ]
    }
  ]
}