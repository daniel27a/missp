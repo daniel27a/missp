{
  "nbformat": 4,
  "nbformat_minor": 0,
  "metadata": {
    "colab": {
      "name": "Resistor_bridge.ipynb",
      "provenance": [],
      "authorship_tag": "ABX9TyNx7j5nqhBlm2ia4oYHXuFd",
      "include_colab_link": true
    },
    "kernelspec": {
      "name": "python3",
      "display_name": "Python 3"
    }
  },
  "cells": [
    {
      "cell_type": "markdown",
      "metadata": {
        "id": "view-in-github",
        "colab_type": "text"
      },
      "source": [
        "<a href=\"https://colab.research.google.com/github/daniel27a/missp/blob/main/pulp/Resistor_bridge.ipynb\" target=\"_parent\"><img src=\"https://colab.research.google.com/assets/colab-badge.svg\" alt=\"Open In Colab\"/></a>"
      ]
    },
    {
      "cell_type": "markdown",
      "metadata": {
        "id": "YicUP7SW4_fh"
      },
      "source": [
        "Notebook zawiera rozwiązanie problemu liniowego przy pomocy narzędzia Pulp.\n",
        "\n",
        "Poniższa komórka tekstu zawiera instrukcję instalującą dodatek Pulp do Notebooka"
      ]
    },
    {
      "cell_type": "code",
      "metadata": {
        "id": "XKCDnRkS43Nx"
      },
      "source": [
        "!pip install pulp\n",
        "\n",
        "!sudo apt-get install coinor-cbc glpk-utils coinor-clp"
      ],
      "execution_count": null,
      "outputs": []
    },
    {
      "cell_type": "markdown",
      "metadata": {
        "id": "WB6JBcTZ4_vo"
      },
      "source": [
        ""
      ]
    },
    {
      "cell_type": "code",
      "metadata": {
        "id": "u34-P5nx5AC4"
      },
      "source": [
        "\"\"\"\n",
        "Minimalizacja mocy rozproszonej - mostek rezystorowy\n",
        "\n",
        "https://www.youtube.com/watch?v=yZuVfekIXJ0\n",
        "\n",
        "\"\"\"\n",
        "\n",
        "import numpy as np\n",
        "from pulp import *\n",
        "\n",
        "prob = LpProblem(\"Minimalizacja mocy rozproszonej\",LpMinimize)\n",
        "\n",
        "# Variables (name, Lo, Hi, Type)\n",
        "\n",
        "i1=LpVariable(\"I1\", 0.003, 0.005, LpContinuous)\n",
        "i2=LpVariable(\"I2\", 0.001, 0.003, LpContinuous)\n",
        "i3=LpVariable(\"I3\", 0.001, 0.003, LpContinuous)\n",
        "i4=LpVariable(\"I4\", 0.001, 0.003, LpContinuous)\n",
        "i5=LpVariable(\"I5\", 0.003, 0.005, LpContinuous)\n",
        " \n",
        "\n",
        "# Constants\n",
        "U = (6.0, 10.0, 4.0, 7.0, 3.0)\n",
        "\n",
        "\n",
        "# Main problem\n",
        "prob += U[0]*i1 + U[1]*i2 + U[2]*i3 + U[3]*i4 + U[4]*i5, \"Total Power\"\n",
        "\n",
        "\n",
        "# Constraints\n",
        "prob += i1-i3 == i4, \"KI1\" \n",
        "prob += i2+i3 == i5, \"KI2\"\n",
        "\n",
        "prob.writeLP(\"ResistorBridge.lp\")\n",
        "\n",
        "prob.solve()\n",
        "print(\"Status:\", LpStatus[prob.status])\n",
        "\n",
        "for v in prob.variables():\n",
        "    print(v.name, \"=\", v.varValue)\n",
        "\n",
        "print()\n",
        "\n",
        "print(\"Straty:\", value(prob.objective), \"W\\n\")  \n",
        "\n",
        "print(\"-\"*30,\"\\n\")\n",
        "\n",
        "for v, k in zip(U, prob.variables()):\n",
        "  print(\"R\",U.index(v)+1,\"=\",(v/k.varValue/1000),\"k ohm\") "
      ],
      "execution_count": null,
      "outputs": []
    }
  ]
}