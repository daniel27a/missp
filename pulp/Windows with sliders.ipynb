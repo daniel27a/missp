{
  "nbformat": 4,
  "nbformat_minor": 0,
  "metadata": {
    "colab": {
      "name": "Untitled2.ipynb",
      "provenance": [],
      "authorship_tag": "ABX9TyPDRNKmEieOqXaluYEtDK/0",
      "include_colab_link": true
    },
    "kernelspec": {
      "name": "python3",
      "display_name": "Python 3"
    }
  },
  "cells": [
    {
      "cell_type": "markdown",
      "metadata": {
        "id": "view-in-github",
        "colab_type": "text"
      },
      "source": [
        "<a href=\"https://colab.research.google.com/github/daniel27a/missp/blob/main/pulp/Windows%20with%20skiders.ipynb\" target=\"_parent\"><img src=\"https://colab.research.google.com/assets/colab-badge.svg\" alt=\"Open In Colab\"/></a>"
      ]
    },
    {
      "cell_type": "markdown",
      "metadata": {
        "id": "KUj4i9Vy4GH5"
      },
      "source": [
        "Notebook zawiera rozwiązanie problemu liniowego przy pomocy narzędzia Pulp.\n",
        "\n",
        "Poniższa komórka tekstu zawiera instrukcję instalującą dodatek Pulp do Notebooka"
      ]
    },
    {
      "cell_type": "code",
      "metadata": {
        "id": "qGLof8uu4E8S"
      },
      "source": [
        "!pip install pulp\n",
        "\n",
        "!sudo apt-get install coinor-cbc glpk-utils coinor-clp"
      ],
      "execution_count": null,
      "outputs": []
    },
    {
      "cell_type": "markdown",
      "metadata": {
        "id": "pKzuyr3i4GrP"
      },
      "source": [
        ""
      ]
    },
    {
      "cell_type": "code",
      "metadata": {
        "id": "aSmVflB-4G7Y"
      },
      "source": [
        "\"\"\"\n",
        "Windows problem with sliders\n",
        "\n",
        "\"\"\"\n",
        "\n",
        "# W przypadku niezmieniancyh danych problem rozwiązuje się dla danych podancyh na zajęciach.\n",
        "\n",
        "from pulp import *\n",
        "from __future__ import print_function\n",
        "from ipywidgets import interact, interactive, fixed, interact_manual, Layout, FloatSlider, IntSlider\n",
        "import ipywidgets as widgets\n",
        "import pandas as pd\n",
        "\n",
        "style = {'description_width': 'initial'}\n",
        "\n",
        "#slidery\n",
        "zysk_z_aluminiowych_slider = IntSlider (min=0,max = 10000, value= 3000, description=\"zysk_z_aluminiowych\", style = style)\n",
        "zysk_z_drewnianych_slider  = IntSlider (min=0,max = 10000, value= 5000, description=\"zysk_z_drewnianych\",  style = style)\n",
        "f1_caly_czas_slider        = IntSlider (min=0,max = 20,    value= 4,    description=\"f1_caly_czas\",        style = style)\n",
        "f2_caly_czas_slider        = IntSlider (min=0,max = 20,    value= 12,   description=\"f2_caly_czas\",        style = style)\n",
        "f3_caly_czas_slider        = IntSlider (min=0,max = 20,    value= 18,   description=\"f3_caly_czas\",        style = style)\n",
        "f1_czas_na_alum_slider     = IntSlider (min=0,max = 10,    value= 1,    description=\"f1_czas_na_alum\",     style = style )\n",
        "f2_czas_na_alum_slider     = IntSlider (min=0,max = 10,    value= 0,    description=\"f2_czas_na_alum\",     style = style )\n",
        "f3_czas_na_alum_slider     = IntSlider (min=0,max = 10,    value= 3,    description=\"f3_czas_na_alum\",     style = style )\n",
        "f1_czas_na_drewno_slider   = IntSlider (min=0,max = 10,    value= 0,    description=\"f1_czas_na_drewno\",   style = style )\n",
        "f2_czas_na_drewno_slider   = IntSlider (min=0,max = 10,    value= 2,    description=\"f2_czas_na_drewno\",   style = style )\n",
        "f3_czas_na_drewno_slider   = IntSlider (min=0,max = 10,    value= 2,    description=\"f3_czas_na_drewno\",   style = style )\n",
        "\n",
        "#definicja wartosci domyslnych\n",
        "def produckja_okien( \n",
        "    zysk_z_aluminiowych= 3000,\n",
        "    zysk_z_drewnianych = 5000,\n",
        "    f1_caly_czas = 4,\n",
        "    f2_caly_czas = 12,\n",
        "    f3_caly_czas = 18,\n",
        "    f1_czas_na_alum = 1,\n",
        "    f2_czas_na_alum = 0,\n",
        "    f3_czas_na_alum = 3,\n",
        "    f1_czas_na_drewno = 0,\n",
        "    f2_czas_na_drewno = 2,\n",
        "    f3_czas_na_drewno = 2):\n",
        "\n",
        "# The Main problem\n",
        "    prob = LpProblem(\"Windows Problem\",LpMaximize)\n",
        "\n",
        "\n",
        "# The 2 variables, alum windows and wood windows\n",
        "    x1 = LpVariable(\"Okna aluminiowe\",0,None,LpInteger)       \n",
        "    x2 = LpVariable(\"Okna drewniane\",0,None,LpInteger)\n",
        "\n",
        "\n",
        "# Profit maximalization \n",
        "    prob += zysk_z_aluminiowych*x1 + zysk_z_drewnianych*x2, \"Total profit from windows sales\"\n",
        "\n",
        "\n",
        "# Limitations\n",
        "    prob += f1_czas_na_alum*x1 + f1_czas_na_drewno*x2 <= f1_caly_czas, \"Factory 1\"\n",
        "    prob += f2_czas_na_alum*x1 + f2_czas_na_drewno*x2 <= f2_caly_czas, \"Factory 2\"\n",
        "    prob += f3_czas_na_alum*x1 + f3_czas_na_drewno*x2 <= f3_caly_czas, \"Factory 3\"\n",
        "\n",
        "# Solution\n",
        "    prob.solve()\n",
        "    print(\"Status:\", LpStatus[prob.status],)\n",
        "\n",
        "    print(\"Wyprodukowano:\")\n",
        "    for v in prob.variables():\n",
        "      print(v.name, \":\", int(v.varValue))\n",
        "    print(\"Profit:\",value(prob.objective),\"zł\")\n",
        "\n",
        "    shadows = [{'name':name, 'shadow price': c.pi, \"slack\": c.slack} for name, c in prob.constraints.items()]\n",
        "    print(\"*\"*10+\"Shadow Prices\"+\"*\"*10)\n",
        "    print(pd.DataFrame(shadows))\n",
        "\n",
        "    print(\"-\"*50)\n",
        "\n",
        "# sliders handlers\n",
        "interact(produckja_okien,\n",
        "    zysk_z_aluminiowych= zysk_z_aluminiowych_slider,\n",
        "    zysk_z_drewnianych = zysk_z_drewnianych_slider,\n",
        "    f1_caly_czas = f1_caly_czas_slider,\n",
        "    f2_caly_czas = f2_caly_czas_slider,\n",
        "    f3_caly_czas = f3_caly_czas_slider,\n",
        "    f1_czas_na_alum = f1_czas_na_alum_slider,\n",
        "    f2_czas_na_alum = f2_czas_na_alum_slider,\n",
        "    f3_czas_na_alum = f3_czas_na_alum_slider,\n",
        "    f1_czas_na_drewno = f1_czas_na_drewno_slider,\n",
        "    f2_czas_na_drewno = f2_czas_na_drewno_slider,\n",
        "    f3_czas_na_drewno = f3_czas_na_drewno_slider)"
      ],
      "execution_count": null,
      "outputs": []
    }
  ]
}
