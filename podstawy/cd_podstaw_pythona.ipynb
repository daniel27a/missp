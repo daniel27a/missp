{
  "nbformat": 4,
  "nbformat_minor": 0,
  "metadata": {
    "kernelspec": {
      "display_name": "Python 3",
      "language": "python",
      "name": "python3"
    },
    "language_info": {
      "codemirror_mode": {
        "name": "ipython",
        "version": 3
      },
      "file_extension": ".py",
      "mimetype": "text/x-python",
      "name": "python",
      "nbconvert_exporter": "python",
      "pygments_lexer": "ipython3",
      "version": "3.7.3"
    },
    "colab": {
      "name": "cd_podstaw_pythona.ipynb",
      "provenance": [],
      "include_colab_link": true
    }
  },
  "cells": [
    {
      "cell_type": "markdown",
      "metadata": {
        "id": "view-in-github",
        "colab_type": "text"
      },
      "source": [
        "<a href=\"https://colab.research.google.com/github/daniel27a/missp/blob/main/podstawy/cd_podstaw_pythona.ipynb\" target=\"_parent\"><img src=\"https://colab.research.google.com/assets/colab-badge.svg\" alt=\"Open In Colab\"/></a>"
      ]
    },
    {
      "cell_type": "markdown",
      "metadata": {
        "id": "Q2-dt2iiIdGF"
      },
      "source": [
        "# Wykonał\n",
        "## Daniel Sobczak\n",
        "### 215342\n",
        "\n",
        ">W poniższy Notebooku zostały przedstawione bardziej zaawansowane funkcje języka Python. W trakcie wykonywania ćwiczeń zapoznałem się z obsługą list, krotek, słowników, macierzy. Nauczyłem się dodawać listy do siebie oraz pojedyncze elementy do tych list. Opanowałem tworzenie i edytowanie słowników.\n",
        "\n",
        "\n",
        "\n"
      ]
    },
    {
      "cell_type": "code",
      "metadata": {
        "id": "SKn6_6oyawb6"
      },
      "source": [
        "import numpy as np"
      ],
      "execution_count": null,
      "outputs": []
    },
    {
      "cell_type": "code",
      "metadata": {
        "id": "_JFXBYQdawb9"
      },
      "source": [
        "a_list= [1,2,3,4,5, [1,2,3], \"temat\"] # nie idealna lista\n",
        "k_krotka = (1,2,3,4,5, [1,2,3], \"temat\")\n",
        "b_list = [1,2,3,4,5]\n",
        "n_array = np.array(b_list) # wektor numpy\n"
      ],
      "execution_count": null,
      "outputs": []
    },
    {
      "cell_type": "code",
      "metadata": {
        "id": "Zpb_kJQcawb_",
        "colab": {
          "base_uri": "https://localhost:8080/"
        },
        "outputId": "e8d09c62-4871-46c0-f3e7-da40174f09c6"
      },
      "source": [
        "print(a_list+b_list)\n",
        "print(n_array+n_array)"
      ],
      "execution_count": null,
      "outputs": [
        {
          "output_type": "stream",
          "text": [
            "[1, 2, 3, 4, 5, [1, 2, 3], 'temat', 1, 2, 3, 4, 5]\n",
            "[ 2  4  6  8 10]\n"
          ],
          "name": "stdout"
        }
      ]
    },
    {
      "cell_type": "code",
      "metadata": {
        "id": "lQmWPuXvawcC",
        "colab": {
          "base_uri": "https://localhost:8080/"
        },
        "outputId": "1c3ba065-2d49-435a-ecc6-c2a8b1900129"
      },
      "source": [
        "a_list[3]"
      ],
      "execution_count": null,
      "outputs": [
        {
          "output_type": "execute_result",
          "data": {
            "text/plain": [
              "4"
            ]
          },
          "metadata": {
            "tags": []
          },
          "execution_count": 4
        }
      ]
    },
    {
      "cell_type": "code",
      "metadata": {
        "id": "_nBD0nU0awcE",
        "colab": {
          "base_uri": "https://localhost:8080/"
        },
        "outputId": "92614a91-7bbc-444d-d3b5-b72a8b0fc528"
      },
      "source": [
        "a_list.append(100)\n",
        "print(a_list)"
      ],
      "execution_count": null,
      "outputs": [
        {
          "output_type": "stream",
          "text": [
            "[1, 2, 3, 4, 5, [1, 2, 3], 'temat', 100]\n"
          ],
          "name": "stdout"
        }
      ]
    },
    {
      "cell_type": "code",
      "metadata": {
        "id": "e9-zq0bMawcH",
        "colab": {
          "base_uri": "https://localhost:8080/",
          "height": 35
        },
        "outputId": "b1f98a84-e14c-48f1-d9a7-7a6df8df9d70"
      },
      "source": [
        "k_krotka[6]"
      ],
      "execution_count": null,
      "outputs": [
        {
          "output_type": "execute_result",
          "data": {
            "application/vnd.google.colaboratory.intrinsic+json": {
              "type": "string"
            },
            "text/plain": [
              "'temat'"
            ]
          },
          "metadata": {
            "tags": []
          },
          "execution_count": 6
        }
      ]
    },
    {
      "cell_type": "code",
      "metadata": {
        "id": "OY1b6VyfawcL",
        "colab": {
          "base_uri": "https://localhost:8080/"
        },
        "outputId": "45f6b70e-601e-4489-bea7-c4d22bc7f2e7"
      },
      "source": [
        "print(np.array(b_list)+np.array(b_list))"
      ],
      "execution_count": null,
      "outputs": [
        {
          "output_type": "stream",
          "text": [
            "[ 2  4  6  8 10]\n"
          ],
          "name": "stdout"
        }
      ]
    },
    {
      "cell_type": "code",
      "metadata": {
        "id": "EXvyIssVawcO"
      },
      "source": [
        "n_array = np.array(a_list) # wektor numpy"
      ],
      "execution_count": null,
      "outputs": []
    },
    {
      "cell_type": "code",
      "metadata": {
        "id": "YZmoOcyhawcQ",
        "colab": {
          "base_uri": "https://localhost:8080/"
        },
        "outputId": "6ae29dac-8eda-4528-ff43-7610f7b9eccc"
      },
      "source": [
        "n_array"
      ],
      "execution_count": null,
      "outputs": [
        {
          "output_type": "execute_result",
          "data": {
            "text/plain": [
              "array([1, 2, 3, 4, 5, list([1, 2, 3]), 'temat', 100], dtype=object)"
            ]
          },
          "metadata": {
            "tags": []
          },
          "execution_count": 10
        }
      ]
    },
    {
      "cell_type": "code",
      "metadata": {
        "id": "QfisINoKawcS"
      },
      "source": [
        "#### Nowosci\n",
        "\n",
        "studenci_slownik = {123: [1,2,3],\"Igor\":3, \"Frankek\":5, \"Zosia\":22,\"Julia\":[2,21], (1,2):\"Krotka\"}"
      ],
      "execution_count": null,
      "outputs": []
    },
    {
      "cell_type": "code",
      "metadata": {
        "id": "kQnr9LCNawcU",
        "colab": {
          "base_uri": "https://localhost:8080/"
        },
        "outputId": "6fcf872b-bb87-4948-eaa6-21e6645e2653"
      },
      "source": [
        "del studenci_slownik[\"Frankek\"]\n",
        "studenci_slownik.items()"
      ],
      "execution_count": null,
      "outputs": [
        {
          "output_type": "execute_result",
          "data": {
            "text/plain": [
              "dict_items([(123, [1, 2, 3]), ('Igor', 3), ('Zosia', 22), ('Julia', [2, 21]), ((1, 2), 'Krotka')])"
            ]
          },
          "metadata": {
            "tags": []
          },
          "execution_count": 12
        }
      ]
    },
    {
      "cell_type": "code",
      "metadata": {
        "id": "3eUttTf-awcZ",
        "colab": {
          "base_uri": "https://localhost:8080/"
        },
        "outputId": "93e07a26-da2e-4cf2-e490-477c3d3feb12"
      },
      "source": [
        "for elementy in studenci_slownik:\n",
        "    print(elementy)\n",
        "\n",
        "print(\"*\"*20)\n",
        "for elementy in studenci_slownik.keys():\n",
        "    print(elementy)"
      ],
      "execution_count": null,
      "outputs": [
        {
          "output_type": "stream",
          "text": [
            "123\n",
            "Igor\n",
            "Zosia\n",
            "Julia\n",
            "(1, 2)\n",
            "********************\n",
            "123\n",
            "Igor\n",
            "Zosia\n",
            "Julia\n",
            "(1, 2)\n"
          ],
          "name": "stdout"
        }
      ]
    },
    {
      "cell_type": "code",
      "metadata": {
        "id": "wF44ab1Uawcc",
        "colab": {
          "base_uri": "https://localhost:8080/"
        },
        "outputId": "420f2dca-d9af-41f7-8847-aa748063ec8e"
      },
      "source": [
        "for elementy in studenci_slownik.items():\n",
        "    print(elementy)"
      ],
      "execution_count": null,
      "outputs": [
        {
          "output_type": "stream",
          "text": [
            "(123, [1, 2, 3])\n",
            "('Igor', 3)\n",
            "('Zosia', 22)\n",
            "('Julia', [2, 21])\n",
            "((1, 2), 'Krotka')\n"
          ],
          "name": "stdout"
        }
      ]
    },
    {
      "cell_type": "code",
      "metadata": {
        "id": "Qgyyv0ecawce",
        "colab": {
          "base_uri": "https://localhost:8080/"
        },
        "outputId": "bad6d388-3093-4df0-b504-0a08a71d2f9d"
      },
      "source": [
        "for elementy in studenci_slownik.values():\n",
        "    print(elementy)"
      ],
      "execution_count": null,
      "outputs": [
        {
          "output_type": "stream",
          "text": [
            "[1, 2, 3]\n",
            "3\n",
            "22\n",
            "[2, 21]\n",
            "Krotka\n"
          ],
          "name": "stdout"
        }
      ]
    },
    {
      "cell_type": "code",
      "metadata": {
        "id": "_3xUEqBhawcg"
      },
      "source": [
        "studenci_slownik[\"Cuthulu\"]= -1000000"
      ],
      "execution_count": null,
      "outputs": []
    },
    {
      "cell_type": "code",
      "metadata": {
        "id": "pTZcBXAyawci",
        "colab": {
          "base_uri": "https://localhost:8080/"
        },
        "outputId": "c705cc1f-d764-4434-d8d6-d188834a62d4"
      },
      "source": [
        "studenci_slownik"
      ],
      "execution_count": null,
      "outputs": [
        {
          "output_type": "execute_result",
          "data": {
            "text/plain": [
              "{(1, 2): 'Krotka',\n",
              " 123: [1, 2, 3],\n",
              " 'Cuthulu': -1000000,\n",
              " 'Igor': 3,\n",
              " 'Julia': [2, 21],\n",
              " 'Zosia': 22}"
            ]
          },
          "metadata": {
            "tags": []
          },
          "execution_count": 20
        }
      ]
    },
    {
      "cell_type": "code",
      "metadata": {
        "id": "nO1IWUnNawck",
        "colab": {
          "base_uri": "https://localhost:8080/"
        },
        "outputId": "ce183bd0-c2f9-44c6-f66d-331d5375f552"
      },
      "source": [
        "automatyczna_lista=[liczba**2 for liczba in range(100) if liczba%3==0]\n",
        "print(automatyczna_lista)"
      ],
      "execution_count": null,
      "outputs": [
        {
          "output_type": "stream",
          "text": [
            "[0, 9, 36, 81, 144, 225, 324, 441, 576, 729, 900, 1089, 1296, 1521, 1764, 2025, 2304, 2601, 2916, 3249, 3600, 3969, 4356, 4761, 5184, 5625, 6084, 6561, 7056, 7569, 8100, 8649, 9216, 9801]\n"
          ],
          "name": "stdout"
        }
      ]
    },
    {
      "cell_type": "code",
      "metadata": {
        "id": "8gFP7BQ8awcm",
        "colab": {
          "base_uri": "https://localhost:8080/"
        },
        "outputId": "f433620c-c3f6-4981-82d6-d794f7cce116"
      },
      "source": [
        "studenci = studenci_slownik.keys()\n",
        "automatyczny_slownik=dict(para for para in enumerate(studenci))\n",
        "print(automatyczny_slownik)"
      ],
      "execution_count": null,
      "outputs": [
        {
          "output_type": "stream",
          "text": [
            "{0: 123, 1: 'Igor', 2: 'Zosia', 3: 'Julia', 4: (1, 2), 5: 'Cuthulu'}\n"
          ],
          "name": "stdout"
        }
      ]
    },
    {
      "cell_type": "code",
      "metadata": {
        "id": "VGZqzqHdawco"
      },
      "source": [
        "##### zbiory\n",
        "\n",
        "a={1,2,3,\"Franek\"}\n",
        "b={2,3,5,\"Franek\"}\n"
      ],
      "execution_count": null,
      "outputs": []
    },
    {
      "cell_type": "code",
      "metadata": {
        "id": "FFVKoguKawcq",
        "colab": {
          "base_uri": "https://localhost:8080/"
        },
        "outputId": "5c898ad0-fc91-4e52-b744-1ad33825a6e9"
      },
      "source": [
        "a&b #suma zbiorów, sum of sets"
      ],
      "execution_count": null,
      "outputs": [
        {
          "output_type": "execute_result",
          "data": {
            "text/plain": [
              "{2, 3, 'Franek'}"
            ]
          },
          "metadata": {
            "tags": []
          },
          "execution_count": 24
        }
      ]
    },
    {
      "cell_type": "code",
      "metadata": {
        "id": "jX-d_ETOawcu",
        "colab": {
          "base_uri": "https://localhost:8080/"
        },
        "outputId": "1715c21c-4504-4b59-8c6e-4146bd5b5f9b"
      },
      "source": [
        "45 in a\n",
        "\"Igo5r\" in studenci_slownik"
      ],
      "execution_count": null,
      "outputs": [
        {
          "output_type": "execute_result",
          "data": {
            "text/plain": [
              "False"
            ]
          },
          "metadata": {
            "tags": []
          },
          "execution_count": 31
        }
      ]
    },
    {
      "cell_type": "markdown",
      "metadata": {
        "id": "ipTWkzLkawcw"
      },
      "source": [
        "### Własne typy\n",
        ">W dalszej części ćwiczenia zapoznałem się z klasami i definicjami. Służyły one do obsługi list, dodawania do nich elementów, sortowania i wyświetlania.\n"
      ]
    },
    {
      "cell_type": "code",
      "metadata": {
        "id": "6IDfuzu8awcx"
      },
      "source": [
        "zajecia = [[\"wf\"],\n",
        "           [\"informatyka\", \"nauka czytania\"],\n",
        "           [\"relax\", \"jedzenie\"],\n",
        "           [\"mispy\",\"mispy w domu\"],\n",
        "           [\"piateczek\", \"praca domowa z mispow\", \"Ilovemispy\", \"mispy w czasie snu\"]\n",
        "          ]\n",
        "\n",
        "dnityg= [\"Pon\",\"Wto\",\"Sro\",\"Czwar\",\"Pio\"]\n",
        "\n",
        "def dodaj_dwie_liczby(liczba1,liczba2):\n",
        "    return liczba1+liczba2"
      ],
      "execution_count": 70,
      "outputs": []
    },
    {
      "cell_type": "code",
      "metadata": {
        "id": "7bL_R7LRawcy"
      },
      "source": [
        "class DzienZajec():\n",
        "    \"\"\"obiekt trzymający dany dzień zajęć i przypisane mu metody\"\"\"\n",
        "    \n",
        "    def __init__(self, lista_na_dany_dzien, nazwa_dnia): #definicja\n",
        "        self.lista_zajec= lista_na_dany_dzien\n",
        "        self.dzien = nazwa_dnia\n",
        "        \n",
        "    def ile_mispow(self):\n",
        "        ile_m = sum([1 for zajecie in self.lista_zajec if \"misp\" in zajecie.lower()])\n",
        "        return ile_m\n",
        "\n",
        "    @property #zamienia na wlasciwosc   \n",
        "    def ile_zajec(self):\n",
        "        return len(self.lista_zajec)\n",
        "    \n",
        "    def __repr__(self):\n",
        "        zajecia_do_stringa = \", \".join(self.lista_zajec)\n",
        "        return \"W dzien {} mam zajecia: {}\".format(self.dzien, zajecia_do_stringa)\n",
        "    "
      ],
      "execution_count": 71,
      "outputs": []
    },
    {
      "cell_type": "code",
      "metadata": {
        "id": "ICGWhgA3awc1"
      },
      "source": [
        "pio_zajecia = DzienZajec([\"piateczek\", \"praca domowa z mispow\", \"Ilovemispy\", \"mispy w czasie snu\"],\n",
        "                        \"piatek\")"
      ],
      "execution_count": 72,
      "outputs": []
    },
    {
      "cell_type": "code",
      "metadata": {
        "id": "4u0-zAJcawc4",
        "colab": {
          "base_uri": "https://localhost:8080/"
        },
        "outputId": "410c0369-f3a6-4828-890b-0470773c7832"
      },
      "source": [
        "pio_zajecia.ile_zajec"
      ],
      "execution_count": 73,
      "outputs": [
        {
          "output_type": "execute_result",
          "data": {
            "text/plain": [
              "4"
            ]
          },
          "metadata": {
            "tags": []
          },
          "execution_count": 73
        }
      ]
    },
    {
      "cell_type": "code",
      "metadata": {
        "id": "4zc3CHbwawc5",
        "colab": {
          "base_uri": "https://localhost:8080/"
        },
        "outputId": "cbbfe525-c5a4-44c8-fe31-49233c481dd0"
      },
      "source": [
        "print(pio_zajecia)"
      ],
      "execution_count": 74,
      "outputs": [
        {
          "output_type": "stream",
          "text": [
            "W dzien piatek mam zajecia: piateczek, praca domowa z mispow, Ilovemispy, mispy w czasie snu\n"
          ],
          "name": "stdout"
        }
      ]
    },
    {
      "cell_type": "code",
      "metadata": {
        "id": "b0CCrsDpawc7",
        "colab": {
          "base_uri": "https://localhost:8080/"
        },
        "outputId": "50c96f67-3129-412a-8de9-e1879ffae1b5"
      },
      "source": [
        "pio_zajecia.lista_zajec"
      ],
      "execution_count": 75,
      "outputs": [
        {
          "output_type": "execute_result",
          "data": {
            "text/plain": [
              "['piateczek', 'praca domowa z mispow', 'Ilovemispy', 'mispy w czasie snu']"
            ]
          },
          "metadata": {
            "tags": []
          },
          "execution_count": 75
        }
      ]
    },
    {
      "cell_type": "code",
      "metadata": {
        "id": "Xw0T-zR3awc9",
        "colab": {
          "base_uri": "https://localhost:8080/"
        },
        "outputId": "3fede8e4-8885-45e8-a064-5b59c64e3b32"
      },
      "source": [
        "pio_zajecia.lista_zajec.append(\"MISP\")\n",
        "print(pio_zajecia.lista_zajec)"
      ],
      "execution_count": 76,
      "outputs": [
        {
          "output_type": "stream",
          "text": [
            "['piateczek', 'praca domowa z mispow', 'Ilovemispy', 'mispy w czasie snu', 'MISP']\n"
          ],
          "name": "stdout"
        }
      ]
    },
    {
      "cell_type": "code",
      "metadata": {
        "id": "LKpgxut_awc_",
        "colab": {
          "base_uri": "https://localhost:8080/"
        },
        "outputId": "a707c916-5599-4458-cea7-035e44a0bd40"
      },
      "source": [
        "pio_zajecia.ile_mispow()"
      ],
      "execution_count": 77,
      "outputs": [
        {
          "output_type": "execute_result",
          "data": {
            "text/plain": [
              "4"
            ]
          },
          "metadata": {
            "tags": []
          },
          "execution_count": 77
        }
      ]
    },
    {
      "cell_type": "code",
      "metadata": {
        "id": "e12W8_TeawdA",
        "colab": {
          "base_uri": "https://localhost:8080/"
        },
        "outputId": "1ce72fc3-d88b-4e66-d790-652069757178"
      },
      "source": [
        "print(pio_zajecia.lista_zajec)\n"
      ],
      "execution_count": 78,
      "outputs": [
        {
          "output_type": "stream",
          "text": [
            "['piateczek', 'praca domowa z mispow', 'Ilovemispy', 'mispy w czasie snu', 'MISP']\n"
          ],
          "name": "stdout"
        }
      ]
    },
    {
      "cell_type": "code",
      "metadata": {
        "id": "BeiHHojFawdD",
        "colab": {
          "base_uri": "https://localhost:8080/"
        },
        "outputId": "99955f63-c9dc-4892-eb4f-f021b0bad506"
      },
      "source": [
        "pio_zajecia"
      ],
      "execution_count": 79,
      "outputs": [
        {
          "output_type": "execute_result",
          "data": {
            "text/plain": [
              "W dzien piatek mam zajecia: piateczek, praca domowa z mispow, Ilovemispy, mispy w czasie snu, MISP"
            ]
          },
          "metadata": {
            "tags": []
          },
          "execution_count": 79
        }
      ]
    },
    {
      "cell_type": "code",
      "metadata": {
        "id": "AjG6PzOsawdF",
        "colab": {
          "base_uri": "https://localhost:8080/"
        },
        "outputId": "20ea576d-2cbd-4378-f612-6a762292eeac"
      },
      "source": [
        "print(pio_zajecia.ile_zajec)"
      ],
      "execution_count": 80,
      "outputs": [
        {
          "output_type": "stream",
          "text": [
            "5\n"
          ],
          "name": "stdout"
        }
      ]
    },
    {
      "cell_type": "code",
      "metadata": {
        "id": "crtAsKCBawdG"
      },
      "source": [
        "lista_zajec= [DzienZajec(lista_dzien, dzien) for lista_dzien, dzien in \n",
        "             zip(zajecia,dnityg)]"
      ],
      "execution_count": 81,
      "outputs": []
    },
    {
      "cell_type": "code",
      "metadata": {
        "id": "nZFxnua5awdI",
        "colab": {
          "base_uri": "https://localhost:8080/"
        },
        "outputId": "67675d36-1e43-45d4-ff3c-69df762bd48e"
      },
      "source": [
        "print(lista_zajec)"
      ],
      "execution_count": 82,
      "outputs": [
        {
          "output_type": "stream",
          "text": [
            "[W dzien Pon mam zajecia: wf, W dzien Wto mam zajecia: informatyka, nauka czytania, W dzien Sro mam zajecia: relax, jedzenie, W dzien Czwar mam zajecia: mispy, mispy w domu, W dzien Pio mam zajecia: piateczek, praca domowa z mispow, Ilovemispy, mispy w czasie snu]\n"
          ],
          "name": "stdout"
        }
      ]
    },
    {
      "cell_type": "code",
      "metadata": {
        "id": "vY80-ugPawdJ"
      },
      "source": [
        "posortowane_po_zajeciach=sorted(lista_zajec, key= lambda zajecie: zajecie.ile_zajec)\n",
        "posortowane_po_mispach=sorted(lista_zajec, key= lambda zajecie: zajecie.ile_mispow())"
      ],
      "execution_count": 83,
      "outputs": []
    },
    {
      "cell_type": "code",
      "metadata": {
        "id": "vZtYMfaMawdL",
        "colab": {
          "base_uri": "https://localhost:8080/"
        },
        "outputId": "2277e372-2a3e-4a15-9419-e59d1f58fdca"
      },
      "source": [
        "print(posortowane_po_zajeciach)"
      ],
      "execution_count": 84,
      "outputs": [
        {
          "output_type": "stream",
          "text": [
            "[W dzien Pon mam zajecia: wf, W dzien Wto mam zajecia: informatyka, nauka czytania, W dzien Sro mam zajecia: relax, jedzenie, W dzien Czwar mam zajecia: mispy, mispy w domu, W dzien Pio mam zajecia: piateczek, praca domowa z mispow, Ilovemispy, mispy w czasie snu]\n"
          ],
          "name": "stdout"
        }
      ]
    },
    {
      "cell_type": "code",
      "metadata": {
        "id": "n3WxTE5_awdN",
        "colab": {
          "base_uri": "https://localhost:8080/"
        },
        "outputId": "313cf173-89d2-4818-ee1d-996dc5dc904b"
      },
      "source": [
        "print(posortowane_po_mispach)"
      ],
      "execution_count": 85,
      "outputs": [
        {
          "output_type": "stream",
          "text": [
            "[W dzien Pon mam zajecia: wf, W dzien Wto mam zajecia: informatyka, nauka czytania, W dzien Sro mam zajecia: relax, jedzenie, W dzien Czwar mam zajecia: mispy, mispy w domu, W dzien Pio mam zajecia: piateczek, praca domowa z mispow, Ilovemispy, mispy w czasie snu]\n"
          ],
          "name": "stdout"
        }
      ]
    },
    {
      "cell_type": "markdown",
      "metadata": {
        "id": "9LMMimQ2awdP"
      },
      "source": [
        "### challenge 1\n",
        "\n",
        "Stworz typ NumerTelefonu\n",
        "\n",
        " -- przy tworzeniu sprawdza czy właściwy numer (Polski) jeśli nie pisze, że error (ew. Exception)\n",
        " \n",
        " -- gdy printuję to mi pisze polskimi słowami i.e. \"jeden, pięć, siedem, zero\"\n",
        " \n",
        " -- gdy wywołuję właściwość wojewodzwtwo, podaje mi wojewodztwo ew. że to komorkowy\n",
        " \n",
        " "
      ]
    },
    {
      "cell_type": "code",
      "metadata": {
        "id": "YQ6WTNokawdP"
      },
      "source": [
        "# ma na takie rzeczy być w stanie odpowiedzieć\n",
        "\n",
        "numer_lodz = NumerTelefonu(\"426877868\")\n",
        ">>> \"prawidlowy numer\"\n",
        "\n",
        "numer_lodz.wojewodztwo \n",
        ">>> \"Lodz\"\n",
        "\n",
        "print(numer_lodz)\n",
        ">>> \"cztery dwa sześć osiem siedem siedem osiem sześć osiem\""
      ],
      "execution_count": null,
      "outputs": []
    },
    {
      "cell_type": "markdown",
      "metadata": {
        "id": "clL0jVkPMjge"
      },
      "source": [
        "Poniżej przedstawiłem rozwiązanie postawionego przede mną challange'u. \n",
        "\n",
        ">Stworzony przeze mnie program służy do rozpoznawania pewnych właściwości wpisywanego przez użytkownika numeru. \n",
        "Pierwszą ze sprawdzanych właściwości jest jego długość. Wpisywany numer musi mieć długość 9 znaków. W przypadku wpisania numeru o złej długości zostanie wyświetlony odpowiedni komunikat. Następnie, program sprawdza występowanie prefixu w postaci dwóch pierwszych cyfr. Jeżeli zna użyte prefixy, zwraca nazwę województwa z którego numer pochodzi. Jeżeli prefixu nie zna, poinformuje że wpisano numer z nieznanego województwa. Program zna sześć prefixów: trzy z województwa mazowieckiego oraz trzy z województwa Łódzkiego. Dodatkowo, program zwraca wpisany przez użytkownika numer w postaci słownej. W przypadku wpisania przez użytkownika innego znaku niż cyfra, program nie wykona się.\n",
        "\n",
        ">Przykładowy wynik programu:\n",
        "```\n",
        "Podaj dziewięcio cyfrowy numer telefonu!\n",
        "441234567\n",
        "Wprowadzono numer: 441234567\n",
        "Wprowadzono poprawny numer!\n",
        "Województwo: Łódzkie\n",
        "Numer słownie: cztery cztery jeden dwa trzy cztery pięć sześć siedem \n",
        "```\n",
        "\n",
        "\n"
      ]
    },
    {
      "cell_type": "code",
      "metadata": {
        "id": "0PJipSaBWgsJ",
        "colab": {
          "base_uri": "https://localhost:8080/"
        },
        "outputId": "31516e01-aff2-4e21-c992-5510dad1b831"
      },
      "source": [
        "#Prośba o wpisanie numeru\n",
        "print (\"Podaj dziewięcio cyfrowy numer telefonu!\")\n",
        "wprowadzony_numer = input()\n",
        "\n",
        "#Utworzenie klasy\n",
        "class NumerTelefonu:\n",
        "        \n",
        "      #Wyświetlenie wpisanego numeru\n",
        "    def __init__(self, sprawdz_numer):\n",
        "        self.numer = sprawdz_numer\n",
        "        print(\"Wprowadzono numer:\", self.numer,)\n",
        "      \n",
        "      #Sprawdzenie długości wpisanego numeru i ewentualny komunikat o błędzie\n",
        "    @property\n",
        "    def check_poprawnosc(self):\n",
        "        if (len(self.numer)==9):\n",
        "          print(\"Wprowadzono poprawny numer!\")     \n",
        "        else:\n",
        "          print(\"ERROR: wprowadzono numer o złej długosci!\")\n",
        "\n",
        "      #Funkcja zwracająca nazwę województwa, z którego pochodzi wpisany numer\n",
        "    @property\n",
        "    def check_voivod(self):\n",
        "      kierunkowe_Łódzkie = [42, 43, 44]\n",
        "      kierunkowe_Mazowieckie = [22, 23, 24]\n",
        "      voivod = \"\"\n",
        "      prefix = int(self.numer[0])*10 + int(self.numer[1]) #utowrzenie prefixu\n",
        "      if (prefix in kierunkowe_Mazowieckie):              #szukanie prefixu w listach\n",
        "        voivod = \"Mazowieckie\"\n",
        "      elif (prefix in kierunkowe_Łódzkie):\n",
        "        voivod = \"Łódzkie\" \n",
        "      else:\n",
        "        voivod = \"Nieznane\"\n",
        "      print(\"Województwo:\", voivod)\n",
        "\n",
        "      #Funkcja odpowiadająca za wypisanie numeru w postaci słownej\n",
        "    @property\n",
        "    def wypisz(self):\n",
        "      numer_slownie = \"\"\n",
        "      cyfry_slownie = [\"zero\", \"jeden\", \"dwa\", \"trzy\", \"cztery\", \"pięć\", \"sześć\", \"siedem\", \"osiem\", \"dziewieć\"]\n",
        "      for i in range(len(self.numer)):\n",
        "        numer_slownie += cyfry_slownie[int(self.numer[i])] + \" \"\n",
        "      print (\"Numer słownie:\", numer_slownie)  \n",
        "\n",
        "\n",
        "   \n",
        "sprawdz_numer = NumerTelefonu(wprowadzony_numer)\n",
        "sprawdz_numer.check_poprawnosc\n",
        "sprawdz_numer.check_voivod\n",
        "sprawdz_numer.wypisz"
      ],
      "execution_count": 69,
      "outputs": [
        {
          "output_type": "stream",
          "text": [
            "Podaj dziewięcio cyfrowy numer telefonu!\n",
            "441234567\n",
            "Wprowadzono numer: 441234567\n",
            "Wprowadzono poprawny numer!\n",
            "Województwo: Łódzkie\n",
            "Numer słownie: cztery cztery jeden dwa trzy cztery pięć sześć siedem \n"
          ],
          "name": "stdout"
        }
      ]
    }
  ]
}