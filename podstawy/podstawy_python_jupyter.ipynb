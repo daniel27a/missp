{
  "nbformat": 4,
  "nbformat_minor": 0,
  "metadata": {
    "kernelspec": {
      "display_name": "Python 3",
      "language": "python",
      "name": "python3"
    },
    "language_info": {
      "codemirror_mode": {
        "name": "ipython",
        "version": 3
      },
      "file_extension": ".py",
      "mimetype": "text/x-python",
      "name": "python",
      "nbconvert_exporter": "python",
      "pygments_lexer": "ipython3",
      "version": "3.8.3"
    },
    "colab": {
      "name": "podstawy_python_jupyter.ipynb",
      "provenance": [],
      "collapsed_sections": []
    }
  },
  "cells": [
    {
      "cell_type": "markdown",
      "metadata": {
        "id": "2xdykjVrzmvw"
      },
      "source": [
        "# Wykonał\n",
        "## Daniel Sobczak\n",
        "### 215342\n",
        "\n",
        ">Plik ten, służył do wykonania pierwszych ćwiczeń w języku Python, w celu opanowania podstaw konstrukcji i używania tego języka. W trakcie ćwiczenia poznałem podstawowe funkcjonalności języka Python oraz dostrzegłem podobieństwa i różnice w stosunku do uprzednio używanych przezemnie języków programowania. Wykonując ćwiczenie nauczyłem się deklarować zmienne w Pythonie, porównywać wartości, wyświetlać wyniki, tworzyć listy, sprawdzać typy zmiennych i obsługiwać pętle. Oprócz tego zapoznałem się z funkcjonalnością list oraz definicji.\n",
        "\n",
        ">Challange do wykonania sprawdziły moją wiedzę nabytą w trakcie rozwiązywania ćwiczenia. Ich treść, oraz przedsawione przezmnie roziwązanie "
      ]
    },
    {
      "cell_type": "code",
      "metadata": {
        "id": "pnYhQb2Cbe7y",
        "outputId": "fd5c65e1-c73f-4cf2-84c5-5b611bf2e086",
        "colab": {
          "base_uri": "https://localhost:8080/"
        }
      },
      "source": [
        "wielkosc = 7\n",
        "print(wielkosc)"
      ],
      "execution_count": 12,
      "outputs": [
        {
          "output_type": "stream",
          "text": [
            "7\n"
          ],
          "name": "stdout"
        }
      ]
    },
    {
      "cell_type": "code",
      "metadata": {
        "scrolled": true,
        "id": "yUheFDQWbe71",
        "outputId": "02106e90-ce59-4959-ae4a-62f6c0fe5742",
        "colab": {
          "base_uri": "https://localhost:8080/"
        }
      },
      "source": [
        "if wielkosc > 6:\n",
        "    print(\"ale duze\")\n",
        "elif wielkosc < 3:\n",
        "    print(\"malutkie\")\n",
        "    print('franek')\n",
        "else:\n",
        "    print(\"w sam raz\")"
      ],
      "execution_count": 13,
      "outputs": [
        {
          "output_type": "stream",
          "text": [
            "ale duze\n"
          ],
          "name": "stdout"
        }
      ]
    },
    {
      "cell_type": "code",
      "metadata": {
        "id": "7aFwP83Sbe74",
        "colab": {
          "base_uri": "https://localhost:8080/"
        },
        "outputId": "70edd31b-c40b-4410-e6b0-a352dfc16079"
      },
      "source": [
        "studenci = [\"Ania\", \"Zosia\", \"Kasia\", \"Franek\"]\n",
        "\n",
        "print(type(studenci))"
      ],
      "execution_count": 14,
      "outputs": [
        {
          "output_type": "stream",
          "text": [
            "<class 'list'>\n"
          ],
          "name": "stdout"
        }
      ]
    },
    {
      "cell_type": "code",
      "metadata": {
        "id": "IRAvdIpxbe76",
        "outputId": "cacc7fb4-900e-4113-d642-f54ceccfadfb",
        "colab": {
          "base_uri": "https://localhost:8080/"
        }
      },
      "source": [
        "studenci[0],studenci[1]"
      ],
      "execution_count": 15,
      "outputs": [
        {
          "output_type": "execute_result",
          "data": {
            "text/plain": [
              "('Ania', 'Zosia')"
            ]
          },
          "metadata": {
            "tags": []
          },
          "execution_count": 15
        }
      ]
    },
    {
      "cell_type": "code",
      "metadata": {
        "scrolled": true,
        "id": "RO7EPTuKbe78",
        "colab": {
          "base_uri": "https://localhost:8080/"
        },
        "outputId": "fac8f073-cd13-4f30-8bb4-f3198dcc9ba1"
      },
      "source": [
        "for student in studenci:\n",
        "    print(\"studenciak ma na imie:\", student)\n",
        "    \n",
        "for student in studenci:\n",
        "    print(student)\n",
        "    if student[0]==\"A\":\n",
        "        print(\"student na poczatku alfabetu\")"
      ],
      "execution_count": 16,
      "outputs": [
        {
          "output_type": "stream",
          "text": [
            "studenciak ma na imie: Ania\n",
            "studenciak ma na imie: Zosia\n",
            "studenciak ma na imie: Kasia\n",
            "studenciak ma na imie: Franek\n",
            "Ania\n",
            "student na poczatku alfabetu\n",
            "Zosia\n",
            "Kasia\n",
            "Franek\n"
          ],
          "name": "stdout"
        }
      ]
    },
    {
      "cell_type": "code",
      "metadata": {
        "id": "hDa2lQkFbe7-",
        "colab": {
          "base_uri": "https://localhost:8080/"
        },
        "outputId": "555995b9-0632-4e78-e590-7c5eed371097"
      },
      "source": [
        "for numer, student in enumerate(studenci):\n",
        "    print(\"student {} ma numer {}\".format(student,numer))"
      ],
      "execution_count": 17,
      "outputs": [
        {
          "output_type": "stream",
          "text": [
            "student Ania ma numer 0\n",
            "student Zosia ma numer 1\n",
            "student Kasia ma numer 2\n",
            "student Franek ma numer 3\n"
          ],
          "name": "stdout"
        }
      ]
    },
    {
      "cell_type": "code",
      "metadata": {
        "id": "Mtq6Gu4ybe8B",
        "colab": {
          "base_uri": "https://localhost:8080/"
        },
        "outputId": "6e058a83-dbbb-4454-a04b-6a9512be3684"
      },
      "source": [
        "oceny = [2,2,5,3]\n",
        "\n",
        "for numer, student in enumerate(studenci):\n",
        "    print(\"student {} ma numer {} i ocenę {}\".format(student,numer,oceny[numer]))\n",
        "\n",
        "print(\"--\"*20)    \n",
        "for number, (student, ocena) in enumerate(zip(studenci,oceny)):\n",
        "    print(\"student {} ma numer {} i ocenę {}\".format(student,number,ocena))"
      ],
      "execution_count": 18,
      "outputs": [
        {
          "output_type": "stream",
          "text": [
            "student Ania ma numer 0 i ocenę 2\n",
            "student Zosia ma numer 1 i ocenę 2\n",
            "student Kasia ma numer 2 i ocenę 5\n",
            "student Franek ma numer 3 i ocenę 3\n",
            "----------------------------------------\n",
            "student Ania ma numer 0 i ocenę 2\n",
            "student Zosia ma numer 1 i ocenę 2\n",
            "student Kasia ma numer 2 i ocenę 5\n",
            "student Franek ma numer 3 i ocenę 3\n"
          ],
          "name": "stdout"
        }
      ]
    },
    {
      "cell_type": "code",
      "metadata": {
        "id": "sh_L2Azmbe8D",
        "colab": {
          "base_uri": "https://localhost:8080/"
        },
        "outputId": "986b7e9a-35f5-4b7d-91d5-ed63e81a56b1"
      },
      "source": [
        "trzy_elementy= [1,2,3]\n",
        "pierwszy,drugi,trzeci= trzy_elementy\n",
        "print (pierwszy)\n",
        "print (drugi)\n",
        "print (trzeci)"
      ],
      "execution_count": 19,
      "outputs": [
        {
          "output_type": "stream",
          "text": [
            "1\n",
            "2\n",
            "3\n"
          ],
          "name": "stdout"
        }
      ]
    },
    {
      "cell_type": "code",
      "metadata": {
        "id": "RmVouLf4be8F",
        "outputId": "a20ac83f-3982-4ee1-b113-f35f30eacfda",
        "colab": {
          "base_uri": "https://localhost:8080/"
        }
      },
      "source": [
        "n = 1\n",
        "\n",
        "while(n < 10):\n",
        "    print(n)\n",
        "    n+=1"
      ],
      "execution_count": 20,
      "outputs": [
        {
          "output_type": "stream",
          "text": [
            "1\n",
            "2\n",
            "3\n",
            "4\n",
            "5\n",
            "6\n",
            "7\n",
            "8\n",
            "9\n"
          ],
          "name": "stdout"
        }
      ]
    },
    {
      "cell_type": "code",
      "metadata": {
        "id": "6RWqJlhPbe8H"
      },
      "source": [
        "def dodaj_dwa(liczba):\n",
        "    return liczba+2\n",
        "\n",
        "def dodaj_trzy(liczba):\n",
        "    return liczba+3\n",
        "\n",
        "def dodaj_dwie_liczby(liczba1,liczba2):\n",
        "    return liczba1+liczba2\n",
        "\n",
        "\n",
        "dodaj_cztery = lambda liczba:liczba+4"
      ],
      "execution_count": 25,
      "outputs": []
    },
    {
      "cell_type": "code",
      "metadata": {
        "id": "3vvnApenbe8K",
        "outputId": "dd64899a-ca5a-4d10-cf82-19c04c4dce88",
        "colab": {
          "base_uri": "https://localhost:8080/"
        }
      },
      "source": [
        "funkcje=[dodaj_dwa,dodaj_trzy,dodaj_cztery]\n",
        "\n",
        "jakis_nr= 10\n",
        "\n",
        "for funkcja in funkcje:\n",
        "    print(funkcja(jakis_nr))"
      ],
      "execution_count": 26,
      "outputs": [
        {
          "output_type": "stream",
          "text": [
            "12\n",
            "13\n",
            "14\n"
          ],
          "name": "stdout"
        }
      ]
    },
    {
      "cell_type": "code",
      "metadata": {
        "id": "-q4u19eCbe8L",
        "outputId": "1f1b8022-aef4-42e2-ad74-f39b58f4d597",
        "colab": {
          "base_uri": "https://localhost:8080/"
        }
      },
      "source": [
        "studenci[0]\n",
        "studenci[1:]\n",
        "studenci[:-1]"
      ],
      "execution_count": 27,
      "outputs": [
        {
          "output_type": "execute_result",
          "data": {
            "text/plain": [
              "['Ania', 'Zosia', 'Kasia']"
            ]
          },
          "metadata": {
            "tags": []
          },
          "execution_count": 27
        }
      ]
    },
    {
      "cell_type": "code",
      "metadata": {
        "id": "vAX0AXRvbe8N",
        "colab": {
          "base_uri": "https://localhost:8080/"
        },
        "outputId": "19cea1e4-3c95-4e8f-80d4-6da41a186697"
      },
      "source": [
        "#### challenge 0.1\n",
        "\n",
        "zajecia = [\"wf\",\"informatyka\",\"relax\",\"mispy\",\"piateczek\"]\n",
        "\n",
        "dnityg= [\"Pon\",\"Wto\",\"Sro\",\"Czwar\",\"Pio\"]\n",
        "\n",
        "# Wyprintuj zajęcia od środy do piątku\n",
        "print (zajecia[2:])\n",
        "# Wyprintuj oprócz środy\n",
        "for dzien, dzien_tygodnia in enumerate(dnityg):\n",
        "  if (dzien !=2):\n",
        "    print(zajecia[dzien])\n"
      ],
      "execution_count": 28,
      "outputs": [
        {
          "output_type": "stream",
          "text": [
            "['relax', 'mispy', 'piateczek']\n",
            "wf\n",
            "informatyka\n",
            "mispy\n",
            "piateczek\n"
          ],
          "name": "stdout"
        }
      ]
    },
    {
      "cell_type": "code",
      "metadata": {
        "id": "gsMImZUebe8R",
        "colab": {
          "base_uri": "https://localhost:8080/"
        },
        "outputId": "eee72983-3ebe-447b-fd64-018612603578"
      },
      "source": [
        "#### challenge 0.2\n",
        " \n",
        "zajecia = [[\"wf\"],\n",
        "           [\"informatyka\", \"nauka czytania\"],\n",
        "           [\"relax\", \"jedzenie\"],\n",
        "           [\"mispy\",\"mispy w domu\"],\n",
        "           [\"piateczek\", \"praca domowa z mispow\", \"Ilovemispy\", \"mispy w czasie snu\"]\n",
        "          ]\n",
        " \n",
        "dnityg= [\"Pon\",\"Wto\",\"Sro\",\"Czwar\",\"Pio\"]\n",
        " \n",
        "# Zdefiniuj funkcję, która poda ile jest zajęć danego dnia\n",
        "def func_ile_zajec (lista_zajec_z_dnia):  #zdefiniowanie funkcji, która za argument przyjmuje listę zajęć z danego dnia\n",
        "    return len(lista_zajec_z_dnia)        #funkcja zwraca ilośc zajęć w danym dniu\n",
        "\n",
        "# lista_zajec_z_dnia -> ile ich jest\n",
        "print('Ilość zajęć danego dnia:')\n",
        "for i in range(len(dnityg)): \n",
        "    print(dnityg[i],func_ile_zajec(zajecia[i])) #wypisanie dni tygodnia i ilości zajeć w każdym dniu\n",
        "\n",
        "# Posortuj dni po najbardziej zajętych\n",
        "\n",
        "### Rozwiązanie alternatywne ###\n",
        "# def sortuj_wg_ilosci_zajec(dnityg, zajecia):\n",
        "#   for j in range(len(dnityg)):\n",
        "#     for i in range(len(dnityg) - 1):\n",
        "#       if len(zajecia[i]) < len(zajecia[i+1]):                     #liczy ilość zajęć danego dnia i dnia następnego i sprawdza nierówność\n",
        "#         dnityg[i], dnityg[i+1] = dnityg[i+1], dnityg[i]           #zamienia miejscami dni tygodnia \n",
        "#         zajecia[i], zajecia[i+1] = zajecia[i+1], zajecia[i]       #i elementy w tablicy \"zajecia\"\n",
        "#   return dnityg\n",
        "\n",
        "def sortuj_wg_funkcji(dnityg, zajecia, funkcja_porownujaca):\n",
        "  for j in range(len(dnityg)):\n",
        "    for i in range(len(dnityg) - 1):\n",
        "      if funkcja_porownujaca(zajecia[i]) < funkcja_porownujaca(zajecia[i+1]):       #podstawia zajęcia[i] do przekazanej funkcji porównującej i sprawdza nierówność\n",
        "        dnityg[i], dnityg[i+1] = dnityg[i+1], dnityg[i]                             #zamienia miejscami dni tygodnia \n",
        "        zajecia[i], zajecia[i+1] = zajecia[i+1], zajecia[i]                         #i elementy w tablicy \"zajęcia\"\n",
        "  return dnityg\n",
        "print('\\nSortowanie dni po najbardziej zajętych:')\n",
        "print(sortuj_wg_funkcji(dnityg, zajecia, len), '\\n')\n",
        "\n",
        "\n",
        "#### challenge 0.3\n",
        "# Napisz program, który znajdzie dzień z najwiekszą ilością mispów.\n",
        "def licz_mispy(dzien):\n",
        "  licznik = 0\n",
        "  for i in range(len(dzien)):\n",
        "    if 'misp' in dzien[i]:\n",
        "      licznik += 1\n",
        "  return licznik\n",
        "\n",
        "### Rozwiązanie alternatywne ###\n",
        "# def sortuj_wg_mispow(dnityg, zajecia):\n",
        "# for j in range(len(dnityg)):\n",
        "#   for i in range(len(dnityg) - 1):\n",
        "#     if licz_mispy(zajecia[i]) < licz_mispy(zajecia[i+1]):       #liczy ilość wystąpień mispów danego dnia i dnia następnego i sprawdza nierówność\n",
        "#       dnityg[i], dnityg[i+1] = dnityg[i+1], dnityg[i]           #zamienia miejscami dni tygodnia \n",
        "#       zajecia[i], zajecia[i+1] = zajecia[i+1], zajecia[i]       #i elementy w tablicy \"zajecia\"\n",
        "# return dnityg\n",
        "\n",
        "print(\"Dzien z największą ilością mispów:\", sortuj_wg_funkcji(dnityg, zajecia, licz_mispy)[0])\n"
      ],
      "execution_count": 10,
      "outputs": [
        {
          "output_type": "stream",
          "text": [
            "Ilość zajęć danego dnia:\n",
            "Pon 1\n",
            "Wto 2\n",
            "Sro 2\n",
            "Czwar 2\n",
            "Pio 4\n",
            "\n",
            "Sortowanie dni po najbardziej zajętych:\n",
            "['Pio', 'Wto', 'Sro', 'Czwar', 'Pon'] \n",
            "\n",
            "Dzien z największą ilością mispów: Pio\n"
          ],
          "name": "stdout"
        }
      ]
    },
    {
      "cell_type": "code",
      "metadata": {
        "id": "Vr5S3ekJbe8T",
        "colab": {
          "base_uri": "https://localhost:8080/"
        },
        "outputId": "4114e931-3414-4460-caf2-84f7d685c292"
      },
      "source": [
        "len(zajecia)\n",
        "\n",
        "zajecia[4][1]\n",
        "\n",
        "\"Ma\" in \"MojaMaMa\"\n",
        "\n",
        "liczby=[\"22\",\"11\",\"33\",\"100\"]\n",
        "liczby_i_nazwy= [(\"22\",\"dwadziescia dwa\"),\n",
        "                 (\"11\",\"jedenascie\"),\n",
        "        (\"33\",\"trzydziesci trzy\"),(\"100\",\"sto\")]\n",
        "sorted(liczby)\n",
        "\n",
        "print(sorted(liczby, key=int))\n",
        "\n",
        "liczby_kolejnosc= enumerate(liczby)\n",
        "\n",
        "def czy_jest_jeden(liczba):\n",
        "\n",
        "    if \"1\" in liczba:\n",
        "        return 1\n",
        "    else:\n",
        "        return 0\n",
        "def na_liczbe(krotka):\n",
        "         return int(krotka[0])\n",
        "def na_liczbe_index(krotka):\n",
        "         return int(krotka[1])    \n",
        "sorted(liczby, key=czy_jest_jeden)\n",
        "         \n",
        "sorted(liczby_i_nazwy,key=na_liczbe)\n",
        "\n",
        "sorted(liczby_kolejnosc,key=na_liczbe_index)"
      ],
      "execution_count": 29,
      "outputs": [
        {
          "output_type": "stream",
          "text": [
            "['11', '22', '33', '100']\n"
          ],
          "name": "stdout"
        },
        {
          "output_type": "execute_result",
          "data": {
            "text/plain": [
              "[(1, '11'), (0, '22'), (2, '33'), (3, '100')]"
            ]
          },
          "metadata": {
            "tags": []
          },
          "execution_count": 29
        }
      ]
    },
    {
      "cell_type": "code",
      "metadata": {
        "id": "ZMuuWERLbe8V",
        "outputId": "72af908a-a315-4279-e4c0-2021d8244242"
      },
      "source": [
        "sorted(liczby_kolejnosc,key=)"
      ],
      "execution_count": null,
      "outputs": [
        {
          "output_type": "execute_result",
          "data": {
            "text/plain": [
              "<enumerate at 0x7f5efea012d0>"
            ]
          },
          "metadata": {
            "tags": []
          },
          "execution_count": 48
        }
      ]
    },
    {
      "cell_type": "code",
      "metadata": {
        "id": "4VmIwLMMbe8X"
      },
      "source": [
        ""
      ],
      "execution_count": null,
      "outputs": []
    }
  ]
}