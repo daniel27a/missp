{
  "nbformat": 4,
  "nbformat_minor": 0,
  "metadata": {
    "colab": {
      "name": "Copy of instalacja pierwsze ćwiczenia z Pulp",
      "provenance": [],
      "collapsed_sections": [],
      "include_colab_link": true
    },
    "kernelspec": {
      "name": "python3",
      "display_name": "Python 3"
    }
  },
  "cells": [
    {
      "cell_type": "markdown",
      "metadata": {
        "id": "view-in-github",
        "colab_type": "text"
      },
      "source": [
        "<a href=\"https://colab.research.google.com/github/daniel27a/missp/blob/main/Copy_of_instalacja_pierwsze_%C4%87wiczenia_z_Pulp.ipynb\" target=\"_parent\"><img src=\"https://colab.research.google.com/assets/colab-badge.svg\" alt=\"Open In Colab\"/></a>"
      ]
    },
    {
      "cell_type": "code",
      "metadata": {
        "id": "BjX-mj9e8D5a",
        "outputId": "780206b5-2d4b-456c-c710-834491a26304",
        "colab": {
          "base_uri": "https://localhost:8080/"
        }
      },
      "source": [
        "!pip install pulp\n",
        "\n",
        "!sudo apt-get install coinor-cbc glpk-utils coinor-clp\n"
      ],
      "execution_count": 2,
      "outputs": [
        {
          "output_type": "stream",
          "text": [
            "Collecting pulp\n",
            "\u001b[?25l  Downloading https://files.pythonhosted.org/packages/89/0c/6d80f5f81a92d1733cc5ca180491b8a3cd5839e335627a0046c81b7d3d3d/PuLP-2.3.1-py3-none-any.whl (40.6MB)\n",
            "\u001b[K     |████████████████████████████████| 40.6MB 102kB/s \n",
            "\u001b[?25hCollecting amply>=0.1.2\n",
            "  Downloading https://files.pythonhosted.org/packages/f3/c5/dfa09dd2595a2ab2ab4e6fa7bebef9565812722e1980d04b0edce5032066/amply-0.1.4-py3-none-any.whl\n",
            "Requirement already satisfied: pyparsing in /usr/local/lib/python3.6/dist-packages (from amply>=0.1.2->pulp) (2.4.7)\n",
            "Requirement already satisfied: docutils>=0.3 in /usr/local/lib/python3.6/dist-packages (from amply>=0.1.2->pulp) (0.16)\n",
            "Installing collected packages: amply, pulp\n",
            "Successfully installed amply-0.1.4 pulp-2.3.1\n",
            "Reading package lists... Done\n",
            "Building dependency tree       \n",
            "Reading state information... Done\n",
            "The following additional packages will be installed:\n",
            "  coinor-libcbc3 coinor-libcgl1 coinor-libclp1 coinor-libcoinutils3v5\n",
            "  coinor-libosi1v5 libamd2 libcolamd2 libglpk40 libsuitesparseconfig5\n",
            "Suggested packages:\n",
            "  libiodbc2-dev default-libmysqlclient-dev\n",
            "The following NEW packages will be installed:\n",
            "  coinor-cbc coinor-clp coinor-libcbc3 coinor-libcgl1 coinor-libclp1\n",
            "  coinor-libcoinutils3v5 coinor-libosi1v5 glpk-utils libamd2 libcolamd2\n",
            "  libglpk40 libsuitesparseconfig5\n",
            "0 upgraded, 12 newly installed, 0 to remove and 11 not upgraded.\n",
            "Need to get 3,439 kB of archives.\n",
            "After this operation, 9,832 kB of additional disk space will be used.\n",
            "Get:1 http://archive.ubuntu.com/ubuntu bionic/main amd64 libsuitesparseconfig5 amd64 1:5.1.2-2 [9,044 B]\n",
            "Get:2 http://archive.ubuntu.com/ubuntu bionic/main amd64 libamd2 amd64 1:5.1.2-2 [19.5 kB]\n",
            "Get:3 http://archive.ubuntu.com/ubuntu bionic/main amd64 libcolamd2 amd64 1:5.1.2-2 [16.2 kB]\n",
            "Get:4 http://archive.ubuntu.com/ubuntu bionic/universe amd64 libglpk40 amd64 4.65-1 [378 kB]\n",
            "Get:5 http://archive.ubuntu.com/ubuntu bionic/universe amd64 glpk-utils amd64 4.65-1 [269 kB]\n",
            "Get:6 http://archive.ubuntu.com/ubuntu bionic/universe amd64 coinor-libcoinutils3v5 amd64 2.10.14+repack1-1 [472 kB]\n",
            "Get:7 http://archive.ubuntu.com/ubuntu bionic/universe amd64 coinor-libosi1v5 amd64 0.107.9+repack1-1 [270 kB]\n",
            "Get:8 http://archive.ubuntu.com/ubuntu bionic/universe amd64 coinor-libclp1 amd64 1.16.11+repack1-1 [863 kB]\n",
            "Get:9 http://archive.ubuntu.com/ubuntu bionic/universe amd64 coinor-libcgl1 amd64 0.59.10+repack1-1 [433 kB]\n",
            "Get:10 http://archive.ubuntu.com/ubuntu bionic/universe amd64 coinor-libcbc3 amd64 2.9.9+repack1-1 [687 kB]\n",
            "Get:11 http://archive.ubuntu.com/ubuntu bionic/universe amd64 coinor-cbc amd64 2.9.9+repack1-1 [11.2 kB]\n",
            "Get:12 http://archive.ubuntu.com/ubuntu bionic/universe amd64 coinor-clp amd64 1.16.11+repack1-1 [9,646 B]\n",
            "Fetched 3,439 kB in 2s (2,123 kB/s)\n",
            "debconf: unable to initialize frontend: Dialog\n",
            "debconf: (No usable dialog-like program is installed, so the dialog based frontend cannot be used. at /usr/share/perl5/Debconf/FrontEnd/Dialog.pm line 76, <> line 12.)\n",
            "debconf: falling back to frontend: Readline\n",
            "debconf: unable to initialize frontend: Readline\n",
            "debconf: (This frontend requires a controlling tty.)\n",
            "debconf: falling back to frontend: Teletype\n",
            "dpkg-preconfigure: unable to re-open stdin: \n",
            "Selecting previously unselected package libsuitesparseconfig5:amd64.\n",
            "(Reading database ... 144628 files and directories currently installed.)\n",
            "Preparing to unpack .../00-libsuitesparseconfig5_1%3a5.1.2-2_amd64.deb ...\n",
            "Unpacking libsuitesparseconfig5:amd64 (1:5.1.2-2) ...\n",
            "Selecting previously unselected package libamd2:amd64.\n",
            "Preparing to unpack .../01-libamd2_1%3a5.1.2-2_amd64.deb ...\n",
            "Unpacking libamd2:amd64 (1:5.1.2-2) ...\n",
            "Selecting previously unselected package libcolamd2:amd64.\n",
            "Preparing to unpack .../02-libcolamd2_1%3a5.1.2-2_amd64.deb ...\n",
            "Unpacking libcolamd2:amd64 (1:5.1.2-2) ...\n",
            "Selecting previously unselected package libglpk40:amd64.\n",
            "Preparing to unpack .../03-libglpk40_4.65-1_amd64.deb ...\n",
            "Unpacking libglpk40:amd64 (4.65-1) ...\n",
            "Selecting previously unselected package glpk-utils.\n",
            "Preparing to unpack .../04-glpk-utils_4.65-1_amd64.deb ...\n",
            "Unpacking glpk-utils (4.65-1) ...\n",
            "Selecting previously unselected package coinor-libcoinutils3v5.\n",
            "Preparing to unpack .../05-coinor-libcoinutils3v5_2.10.14+repack1-1_amd64.deb ...\n",
            "Unpacking coinor-libcoinutils3v5 (2.10.14+repack1-1) ...\n",
            "Selecting previously unselected package coinor-libosi1v5.\n",
            "Preparing to unpack .../06-coinor-libosi1v5_0.107.9+repack1-1_amd64.deb ...\n",
            "Unpacking coinor-libosi1v5 (0.107.9+repack1-1) ...\n",
            "Selecting previously unselected package coinor-libclp1.\n",
            "Preparing to unpack .../07-coinor-libclp1_1.16.11+repack1-1_amd64.deb ...\n",
            "Unpacking coinor-libclp1 (1.16.11+repack1-1) ...\n",
            "Selecting previously unselected package coinor-libcgl1.\n",
            "Preparing to unpack .../08-coinor-libcgl1_0.59.10+repack1-1_amd64.deb ...\n",
            "Unpacking coinor-libcgl1 (0.59.10+repack1-1) ...\n",
            "Selecting previously unselected package coinor-libcbc3.\n",
            "Preparing to unpack .../09-coinor-libcbc3_2.9.9+repack1-1_amd64.deb ...\n",
            "Unpacking coinor-libcbc3 (2.9.9+repack1-1) ...\n",
            "Selecting previously unselected package coinor-cbc.\n",
            "Preparing to unpack .../10-coinor-cbc_2.9.9+repack1-1_amd64.deb ...\n",
            "Unpacking coinor-cbc (2.9.9+repack1-1) ...\n",
            "Selecting previously unselected package coinor-clp.\n",
            "Preparing to unpack .../11-coinor-clp_1.16.11+repack1-1_amd64.deb ...\n",
            "Unpacking coinor-clp (1.16.11+repack1-1) ...\n",
            "Setting up libsuitesparseconfig5:amd64 (1:5.1.2-2) ...\n",
            "Setting up libcolamd2:amd64 (1:5.1.2-2) ...\n",
            "Setting up coinor-libcoinutils3v5 (2.10.14+repack1-1) ...\n",
            "Setting up coinor-libosi1v5 (0.107.9+repack1-1) ...\n",
            "Setting up coinor-libclp1 (1.16.11+repack1-1) ...\n",
            "Setting up libamd2:amd64 (1:5.1.2-2) ...\n",
            "Setting up coinor-libcgl1 (0.59.10+repack1-1) ...\n",
            "Setting up libglpk40:amd64 (4.65-1) ...\n",
            "Setting up coinor-clp (1.16.11+repack1-1) ...\n",
            "Setting up coinor-libcbc3 (2.9.9+repack1-1) ...\n",
            "Setting up glpk-utils (4.65-1) ...\n",
            "Setting up coinor-cbc (2.9.9+repack1-1) ...\n",
            "Processing triggers for man-db (2.8.3-2ubuntu0.1) ...\n",
            "Processing triggers for libc-bin (2.27-3ubuntu1.2) ...\n",
            "/sbin/ldconfig.real: /usr/local/lib/python3.6/dist-packages/ideep4py/lib/libmkldnn.so.0 is not a symbolic link\n",
            "\n"
          ],
          "name": "stdout"
        }
      ]
    },
    {
      "cell_type": "code",
      "metadata": {
        "id": "HMGiufp89W-9",
        "outputId": "441ac2a0-5c81-42be-d89f-cd33b8a36aff",
        "colab": {
          "base_uri": "https://localhost:8080/"
        }
      },
      "source": [
        "### kod sprawdza czy instalacja się udała\n",
        "import pulp\n",
        "\n",
        "print(pulp.__version__)"
      ],
      "execution_count": 6,
      "outputs": [
        {
          "output_type": "stream",
          "text": [
            "2.3.1\n"
          ],
          "name": "stdout"
        }
      ]
    },
    {
      "cell_type": "code",
      "metadata": {
        "id": "05p9Frax-V2f",
        "outputId": "03f316e9-8df2-4049-b25a-8d30d73cd49b",
        "colab": {
          "base_uri": "https://localhost:8080/"
        }
      },
      "source": [
        "pulp.pulpTestAll()"
      ],
      "execution_count": 5,
      "outputs": [
        {
          "output_type": "stream",
          "text": [
            "..............."
          ],
          "name": "stderr"
        },
        {
          "output_type": "stream",
          "text": [
            "Solver <class 'pulp.apis.coin_api.PULP_CBC_CMD'> available\n",
            "Solver <class 'pulp.apis.cplex_api.CPLEX_DLL'> unavailable\n",
            "Solver <class 'pulp.apis.cplex_api.CPLEX_CMD'> unavailable\n",
            "Solver <class 'pulp.apis.cplex_api.CPLEX_PY'> unavailable\n",
            "Solver <class 'pulp.apis.coin_api.COIN_CMD'> available\n",
            "Solver <class 'pulp.apis.coin_api.COINMP_DLL'> unavailable\n",
            "Solver <class 'pulp.apis.glpk_api.GLPK_CMD'> available\n",
            "Solver <class 'pulp.apis.xpress_api.XPRESS'> unavailable\n",
            "Solver <class 'pulp.apis.gurobi_api.GUROBI'> unavailable\n",
            "Solver <class 'pulp.apis.gurobi_api.GUROBI_CMD'> unavailable\n",
            "Solver <class 'pulp.apis.glpk_api.PYGLPK'> unavailable\n",
            "Solver <class 'pulp.apis.coin_api.YAPOSIB'> unavailable\n",
            "Solver <class 'pulp.apis.choco_api.PULP_CHOCO_CMD'> available\n",
            "Solver <class 'pulp.apis.choco_api.CHOCO_CMD'> unavailable\n",
            "Solver <class 'pulp.apis.mipcl_api.MIPCL_CMD'> unavailable\n",
            "Solver <class 'pulp.apis.mosek_api.MOSEK'> unavailable\n",
            "Solver <class 'pulp.apis.scip_api.SCIP_CMD'> unavailable\n",
            "\t Testing invalid status\n",
            "\t Testing continuous LP solution - export dict\n",
            "\t Testing MIP solution\n",
            "\t Testing maximize continuous LP solution\n",
            "\t Testing continuous LP solution - export JSON\n",
            "\t Testing continuous LP solution - export solver dict\n",
            "\t Testing continuous LP solution - export solver JSON\n",
            "\t Testing makeDict general behavior\n",
            "\t Testing makeDict default value behavior\n",
            "\t Testing the availability of the function pulpTestAll\n",
            "\t Testing zero subtraction\n",
            "\t Testing inconsistent lp solution\n",
            "\t Testing continuous LP solution\n",
            "\t Testing maximize continuous LP solution\n",
            "\t Testing unbounded continuous LP solution\n"
          ],
          "name": "stdout"
        },
        {
          "output_type": "stream",
          "text": [
            "..............."
          ],
          "name": "stderr"
        },
        {
          "output_type": "stream",
          "text": [
            "\t Testing Long Names\n",
            "\t Testing repeated Names\n",
            "\t Testing zero constraint\n",
            "\t Testing zero objective\n",
            "\t Testing LpVariable (not LpAffineExpression) objective\n",
            "\t Testing Long lines in LP\n",
            "\t Testing LpAffineExpression divide\n",
            "\t Testing MIP solution\n",
            "\t Testing MIP solution with floats in objective\n",
            "\t Testing MIP solution\n",
            "\t Testing MIP solution\n",
            "\t Testing MIP relaxation\n",
            "\t Testing feasibility problem (no objective)\n",
            "\t Testing an infeasible problem\n",
            "\t Testing an integer infeasible problem\n"
          ],
          "name": "stdout"
        },
        {
          "output_type": "stream",
          "text": [
            "..............."
          ],
          "name": "stderr"
        },
        {
          "output_type": "stream",
          "text": [
            "\t Testing another integer infeasible problem\n",
            "\t Testing column based modelling\n",
            "\t Testing dual variables and slacks reporting\n",
            "\t Testing fractional constraints\n",
            "\t Testing elastic constraints (no change)\n",
            "\t Testing elastic constraints (freebound)\n",
            "\t Testing elastic constraints (penalty unchanged)\n",
            "\t Testing elastic constraints (penalty unbounded)\n",
            "\t Testing invalid status\n",
            "\t Testing continuous LP solution - export dict\n",
            "\t Testing MIP solution\n"
          ],
          "name": "stdout"
        },
        {
          "output_type": "stream",
          "text": [
            "................"
          ],
          "name": "stderr"
        },
        {
          "output_type": "stream",
          "text": [
            "\t Testing maximize continuous LP solution\n",
            "\t Testing continuous LP solution - export JSON\n",
            "\t Testing continuous LP solution - export solver dict\n",
            "\t Testing continuous LP solution - export solver JSON\n",
            "\t Testing makeDict general behavior\n",
            "\t Testing makeDict default value behavior\n",
            "\t Testing the availability of the function pulpTestAll\n",
            "\t Testing zero subtraction\n",
            "\t Testing inconsistent lp solution\n",
            "\t Testing continuous LP solution\n",
            "\t Testing maximize continuous LP solution\n",
            "\t Testing unbounded continuous LP solution\n",
            "\t Testing Long Names\n",
            "\t Testing repeated Names\n",
            "\t Testing zero constraint\n"
          ],
          "name": "stdout"
        },
        {
          "output_type": "stream",
          "text": [
            "............"
          ],
          "name": "stderr"
        },
        {
          "output_type": "stream",
          "text": [
            "\t Testing zero objective\n",
            "\t Testing LpVariable (not LpAffineExpression) objective\n",
            "\t Testing Long lines in LP\n",
            "\t Testing LpAffineExpression divide\n",
            "\t Testing MIP solution\n",
            "\t Testing MIP solution with floats in objective\n",
            "\t Testing MIP solution\n",
            "\t Testing MIP solution\n",
            "\t Testing MIP relaxation\n",
            "\t Testing feasibility problem (no objective)\n",
            "\t Testing an infeasible problem\n",
            "\t Testing an integer infeasible problem\n"
          ],
          "name": "stdout"
        },
        {
          "output_type": "stream",
          "text": [
            "................"
          ],
          "name": "stderr"
        },
        {
          "output_type": "stream",
          "text": [
            "\t Testing another integer infeasible problem\n",
            "\t Testing column based modelling\n",
            "\t Testing fractional constraints\n",
            "\t Testing elastic constraints (no change)\n",
            "\t Testing elastic constraints (freebound)\n",
            "\t Testing elastic constraints (penalty unchanged)\n",
            "\t Testing elastic constraints (penalty unbounded)\n",
            "\t Testing invalid status\n",
            "\t Testing continuous LP solution - export dict\n",
            "\t Testing MIP solution\n",
            "\t Testing maximize continuous LP solution\n"
          ],
          "name": "stdout"
        },
        {
          "output_type": "stream",
          "text": [
            "......................."
          ],
          "name": "stderr"
        },
        {
          "output_type": "stream",
          "text": [
            "\t Testing continuous LP solution - export JSON\n",
            "\t Testing continuous LP solution - export solver dict\n",
            "\t Testing continuous LP solution - export solver JSON\n",
            "\t Testing makeDict general behavior\n",
            "\t Testing makeDict default value behavior\n",
            "\t Testing the availability of the function pulpTestAll\n",
            "\t Testing zero subtraction\n",
            "\t Testing inconsistent lp solution\n",
            "\t Testing continuous LP solution\n",
            "\t Testing maximize continuous LP solution\n",
            "\t Testing unbounded continuous LP solution\n",
            "\t Testing Long Names\n",
            "\t Testing repeated Names\n",
            "\t Testing zero constraint\n",
            "\t Testing zero objective\n",
            "\t Testing LpVariable (not LpAffineExpression) objective\n",
            "\t Testing LpAffineExpression divide\n",
            "\t Testing MIP solution\n",
            "\t Testing MIP solution with floats in objective\n",
            "\t Testing MIP solution\n",
            "\t Testing MIP solution\n"
          ],
          "name": "stdout"
        },
        {
          "output_type": "stream",
          "text": [
            ".................."
          ],
          "name": "stderr"
        },
        {
          "output_type": "stream",
          "text": [
            "\t Testing MIP relaxation\n",
            "\t Testing feasibility problem (no objective)\n",
            "\t Testing an infeasible problem\n",
            "\t Testing an integer infeasible problem\n",
            "\t Testing another integer infeasible problem\n",
            "\t Testing column based modelling\n",
            "\t Testing fractional constraints\n",
            "\t Testing elastic constraints (no change)\n",
            "\t Testing elastic constraints (freebound)\n",
            "\t Testing elastic constraints (penalty unchanged)\n",
            "\t Testing elastic constraints (penalty unbounded)\n",
            "\t Testing invalid status\n",
            "\t Testing continuous LP solution - export dict\n"
          ],
          "name": "stdout"
        },
        {
          "output_type": "stream",
          "text": [
            "."
          ],
          "name": "stderr"
        },
        {
          "output_type": "stream",
          "text": [
            "\t Testing MIP solution\n"
          ],
          "name": "stdout"
        },
        {
          "output_type": "stream",
          "text": [
            "."
          ],
          "name": "stderr"
        },
        {
          "output_type": "stream",
          "text": [
            "\t Testing maximize continuous LP solution\n"
          ],
          "name": "stdout"
        },
        {
          "output_type": "stream",
          "text": [
            "."
          ],
          "name": "stderr"
        },
        {
          "output_type": "stream",
          "text": [
            "\t Testing continuous LP solution - export JSON\n"
          ],
          "name": "stdout"
        },
        {
          "output_type": "stream",
          "text": [
            "."
          ],
          "name": "stderr"
        },
        {
          "output_type": "stream",
          "text": [
            "\t Testing continuous LP solution - export solver dict\n"
          ],
          "name": "stdout"
        },
        {
          "output_type": "stream",
          "text": [
            "."
          ],
          "name": "stderr"
        },
        {
          "output_type": "stream",
          "text": [
            "\t Testing continuous LP solution - export solver JSON\n"
          ],
          "name": "stdout"
        },
        {
          "output_type": "stream",
          "text": [
            "......."
          ],
          "name": "stderr"
        },
        {
          "output_type": "stream",
          "text": [
            "\t Testing makeDict general behavior\n",
            "\t Testing makeDict default value behavior\n",
            "\t Testing the availability of the function pulpTestAll\n",
            "\t Testing zero subtraction\n",
            "\t Testing inconsistent lp solution\n",
            "\t Testing continuous LP solution\n"
          ],
          "name": "stdout"
        },
        {
          "output_type": "stream",
          "text": [
            "."
          ],
          "name": "stderr"
        },
        {
          "output_type": "stream",
          "text": [
            "\t Testing maximize continuous LP solution\n"
          ],
          "name": "stdout"
        },
        {
          "output_type": "stream",
          "text": [
            ".."
          ],
          "name": "stderr"
        },
        {
          "output_type": "stream",
          "text": [
            "\t Testing unbounded continuous LP solution\n",
            "\t Testing Long Names\n"
          ],
          "name": "stdout"
        },
        {
          "output_type": "stream",
          "text": [
            ".."
          ],
          "name": "stderr"
        },
        {
          "output_type": "stream",
          "text": [
            "\t Testing repeated Names\n",
            "\t Testing zero constraint\n"
          ],
          "name": "stdout"
        },
        {
          "output_type": "stream",
          "text": [
            "."
          ],
          "name": "stderr"
        },
        {
          "output_type": "stream",
          "text": [
            "\t Testing zero objective\n"
          ],
          "name": "stdout"
        },
        {
          "output_type": "stream",
          "text": [
            "."
          ],
          "name": "stderr"
        },
        {
          "output_type": "stream",
          "text": [
            "\t Testing LpVariable (not LpAffineExpression) objective\n"
          ],
          "name": "stdout"
        },
        {
          "output_type": "stream",
          "text": [
            ".."
          ],
          "name": "stderr"
        },
        {
          "output_type": "stream",
          "text": [
            "\t Testing LpAffineExpression divide\n"
          ],
          "name": "stdout"
        },
        {
          "output_type": "stream",
          "text": [
            "."
          ],
          "name": "stderr"
        },
        {
          "output_type": "stream",
          "text": [
            "\t Testing MIP solution\n"
          ],
          "name": "stdout"
        },
        {
          "output_type": "stream",
          "text": [
            "."
          ],
          "name": "stderr"
        },
        {
          "output_type": "stream",
          "text": [
            "\t Testing MIP solution with floats in objective\n"
          ],
          "name": "stdout"
        },
        {
          "output_type": "stream",
          "text": [
            "."
          ],
          "name": "stderr"
        },
        {
          "output_type": "stream",
          "text": [
            "\t Testing MIP solution\n"
          ],
          "name": "stdout"
        },
        {
          "output_type": "stream",
          "text": [
            "."
          ],
          "name": "stderr"
        },
        {
          "output_type": "stream",
          "text": [
            "\t Testing MIP solution\n"
          ],
          "name": "stdout"
        },
        {
          "output_type": "stream",
          "text": [
            "./usr/local/lib/python3.6/dist-packages/pulp/apis/choco_api.py:83: UserWarning: CHOCO_CMD cannot solve the relaxation of a problem\n",
            "  warnings.warn(\"CHOCO_CMD cannot solve the relaxation of a problem\")\n"
          ],
          "name": "stderr"
        },
        {
          "output_type": "stream",
          "text": [
            "\t Testing MIP relaxation\n"
          ],
          "name": "stdout"
        },
        {
          "output_type": "stream",
          "text": [
            "."
          ],
          "name": "stderr"
        },
        {
          "output_type": "stream",
          "text": [
            "\t Testing feasibility problem (no objective)\n"
          ],
          "name": "stdout"
        },
        {
          "output_type": "stream",
          "text": [
            "."
          ],
          "name": "stderr"
        },
        {
          "output_type": "stream",
          "text": [
            "\t Testing an infeasible problem\n"
          ],
          "name": "stdout"
        },
        {
          "output_type": "stream",
          "text": [
            "."
          ],
          "name": "stderr"
        },
        {
          "output_type": "stream",
          "text": [
            "\t Testing an integer infeasible problem\n"
          ],
          "name": "stdout"
        },
        {
          "output_type": "stream",
          "text": [
            "."
          ],
          "name": "stderr"
        },
        {
          "output_type": "stream",
          "text": [
            "\t Testing another integer infeasible problem\n"
          ],
          "name": "stdout"
        },
        {
          "output_type": "stream",
          "text": [
            "."
          ],
          "name": "stderr"
        },
        {
          "output_type": "stream",
          "text": [
            "\t Testing column based modelling\n"
          ],
          "name": "stdout"
        },
        {
          "output_type": "stream",
          "text": [
            "....."
          ],
          "name": "stderr"
        },
        {
          "output_type": "stream",
          "text": [
            "\t Testing fractional constraints\n"
          ],
          "name": "stdout"
        },
        {
          "output_type": "stream",
          "text": [
            "."
          ],
          "name": "stderr"
        },
        {
          "output_type": "stream",
          "text": [
            "\t Testing elastic constraints (no change)\n"
          ],
          "name": "stdout"
        },
        {
          "output_type": "stream",
          "text": [
            "."
          ],
          "name": "stderr"
        },
        {
          "output_type": "stream",
          "text": [
            "\t Testing elastic constraints (freebound)\n"
          ],
          "name": "stdout"
        },
        {
          "output_type": "stream",
          "text": [
            "."
          ],
          "name": "stderr"
        },
        {
          "output_type": "stream",
          "text": [
            "\t Testing elastic constraints (penalty unchanged)\n"
          ],
          "name": "stdout"
        },
        {
          "output_type": "stream",
          "text": [
            "..............."
          ],
          "name": "stderr"
        },
        {
          "output_type": "stream",
          "text": [
            "\t Testing elastic constraints (penalty unbounded)\n"
          ],
          "name": "stdout"
        },
        {
          "output_type": "stream",
          "text": [
            ".........................."
          ],
          "name": "stderr"
        },
        {
          "output_type": "stream",
          "text": [
            "{'a': 53.0, 'b': 45.3, 'c': 459.2}\n"
          ],
          "name": "stdout"
        },
        {
          "output_type": "stream",
          "text": [
            ".....\n",
            "----------------------------------------------------------------------\n",
            "Ran 215 tests in 37.762s\n",
            "\n",
            "OK\n"
          ],
          "name": "stderr"
        }
      ]
    },
    {
      "cell_type": "markdown",
      "metadata": {
        "id": "JHP3Y3Yh-stH"
      },
      "source": [
        "# Zadania:\n",
        "\n",
        "1. przeczytaj materiały dotyczące pulp ze strony internetowej https://coin-or.github.io/pulp/main/index.html oraz przejdź przez blending problem (przepisz do swojego notebooka)\n",
        "\n",
        "2. w blending problem dodaj zmienną decyzyjną. Stwórz zmienną która pojawi się w końcowym składzie produktu (tj. wartość zmiennej będzie miała niezerową postać)\n",
        "\n",
        "3. Dodaj ograniczenie co do zawartości witaminy B \n",
        "\n",
        "Zawartość:\n",
        "\n",
        "| Nazwa      | zawartość ug/100g |\n",
        "|------------|-------------------|\n",
        "| chicken    | 0.3               |\n",
        "| beef       | 2.6               |\n",
        "| mutton     | 2.6               |\n",
        "| rice       | 0                 |\n",
        "| wheat bran | 0                 |\n",
        "| gel        | 0                 |\n",
        "| sardines   | 8.9               |\n",
        "\n",
        "Kot ma zjeść minimum 0.24 ug na kilogram masy więc około\n",
        "0.8 ug dziennie\n",
        "\n",
        "4. Na końcu ma pojawiać się zdanie podsumowujące wynik, w stylu:\n",
        "Końcowy produkt będzie kosztować {}, będzie miał w składzie {nazwa}: {} %, {nastepna nazwa}: {} %\n",
        "\n",
        "Takie zdanie można skleić z części generowanych automatycznie:\n",
        "\n"
      ]
    },
    {
      "cell_type": "code",
      "metadata": {
        "id": "BhWf9b8IMJZ7",
        "outputId": "303243bd-b7d3-4444-e6ca-16e7b83678de",
        "colab": {
          "base_uri": "https://localhost:8080/",
          "height": 52
        }
      },
      "source": [
        "sklejone_produkt_cena = [\":\".join((produkt, str(cena))) for produkt,cena in zip([\"jabłko\",\"banan\"],[5,10])]\n",
        "print(sklejone_produkt_cena)\n",
        "sklejona_calosc = \", \".join(sklejone_produkt_cena)\n",
        "\n",
        "print(sklejona_calosc)"
      ],
      "execution_count": null,
      "outputs": [
        {
          "output_type": "stream",
          "text": [
            "['jabłko:5', 'banan:10']\n",
            "jabłko:5, banan:10\n"
          ],
          "name": "stdout"
        }
      ]
    },
    {
      "cell_type": "code",
      "metadata": {
        "id": "Se_t7o8bTLdW",
        "outputId": "f6f60375-a48b-45e9-840d-d6b10d84d593",
        "colab": {
          "base_uri": "https://localhost:8080/",
          "height": 158
        }
      },
      "source": [
        "\"\"\"\n",
        "The Simplified Whiskas Model Python Formulation for the PuLP Modeller\n",
        "\n",
        "Authors: Daniel Sobczak  2020\n",
        "\"\"\"\n",
        "\n",
        "from pulp import *\n",
        "\n",
        "prob = LpProblem(\"The Whiskas' Cat Food Problem\",LpMinimize)\n",
        "\n",
        "# The 2 variables Beef and Chicken are created with a lower limit of zero\n",
        "x1=LpVariable(\"ChickenPercent\",0,)\n",
        "x2=LpVariable(\"BeefPercent\",0)\n",
        "x3=LpVariable(\"SardinesPercent\",0)\n",
        "\n",
        "# The objective function is added to 'prob' first\n",
        "prob += 0.013*x1 + 0.008*x2 + 0.01*x3, \"Total Cost of Ingredients per can\"\n",
        "\n",
        "# The five constraints are entered\n",
        "prob += x1 + x2 + x3 == 100, \"PercentagesSum\"\n",
        "prob += 0.100*x1 + 0.200*x2 + 0.25*x3 >= 8.0, \"ProteinRequirement\"\n",
        "prob += 0.080*x1 + 0.100*x2 + 0.11*x3 >= 6.0, \"FatRequirement\"\n",
        "prob += 0.001*x1 + 0.005*x2 + 0*x3 <= 2.0, \"FibreRequirement\"\n",
        "prob += 0.002*x1 + 0.005*x2 + 0.00505*x3 <= 0.4, \"SaltRequirement\"\n",
        "prob += 0.003*x1 + 0.026*x2 + 0.089*x3 >= 0.8, \"VitaminBreq\" \n",
        "\n",
        "prob.writeLP(\"WhiskasModel.lp\")\n",
        "\n",
        "prob.solve()\n",
        "print(\"Status:\", LpStatus[prob.status])\n",
        "\n",
        "for v in prob.variables():\n",
        "    print(v.name, \"=\", v.varValue)\n",
        "\n",
        "produkty_procentowo = \"\"\n",
        "\n",
        "for v in prob.variables():\n",
        "    produkty_procentowo += v.name + \" = \" + str(v.varValue)+ \"%, \" \n",
        "\n",
        "produkty_procentowo = produkty_procentowo[:-2]\n",
        "\n",
        "print(\"Puszka produktu będzie kosztować \", value(prob.objective), \"$ i będzie miał w składzie:\", produkty_procentowo,\".\")\n",
        "\n",
        "print(\"-\"*30)\n"
      ],
      "execution_count": null,
      "outputs": [
        {
          "output_type": "stream",
          "text": [
            "Status: Optimal\n",
            "BeefPercent = 66.666667\n",
            "ChickenPercent = 33.333333\n",
            "SardinesPercent = 0.0\n",
            "Puszka produktu będzie kosztować  0.966666665 $ i będzie miał w składzie: BeefPercent = 66.666667%, ChickenPercent = 33.333333%, SardinesPercent = 0.0% .\n",
            "------------------------------\n"
          ],
          "name": "stdout"
        },
        {
          "output_type": "stream",
          "text": [
            "/usr/local/lib/python3.6/dist-packages/pulp/pulp.py:1198: UserWarning: Spaces are not permitted in the name. Converted to '_'\n",
            "  warnings.warn(\"Spaces are not permitted in the name. Converted to '_'\")\n"
          ],
          "name": "stderr"
        }
      ]
    },
    {
      "cell_type": "code",
      "metadata": {
        "id": "jBSmvZYCcCus",
        "outputId": "aa0e1ce1-5a44-40dd-a61d-e3a947b924c9",
        "colab": {
          "base_uri": "https://localhost:8080/"
        }
      },
      "source": [
        "\"\"\"\n",
        "Windows\n",
        "\n",
        "Authors: Daniel Sobczak  2020\n",
        "\"\"\"\n",
        "\n",
        "from __future__ import print_function\n",
        "from ipywidgets import interact, interactive, fixed, interact_manual, Layout, FloatSlider, IntSlider\n",
        "import ipywidgets as widgets\n",
        "import pandas as pd\n",
        "\n",
        "style = {'description_width': 'initial'}\n",
        "\n",
        "#slidery\n",
        "zysk_z_aluminiowych = IntSlider (min=0,max = 10000, value= 3000, description=\"zysk_z_aluminiowych\", style = style)\n",
        "zysk_z_drewnianych = IntSlider  (min=0,max = 10000, value= 5000, description=\"zysk_z_drewnianych\", style = style)\n",
        "f1_caly_czas = IntSlider        (min=0,max = 20,    value= 4,    description=\"f1_caly_czas\", style = style)\n",
        "f2_caly_czas = IntSlider        (min=0,max = 20,    value= 12,   description=\"f2_caly_czas\", style = style)\n",
        "f3_caly_czas = IntSlider        (min=0,max = 20,    value= 18,   description=\"f3_caly_czas\", style = style)\n",
        "f1_czas_na_alum = IntSlider     (min=0,max = 10,    value= 1,    description=\"f1_czas_na_alum\", style = style )\n",
        "f2_czas_na_alum = IntSlider     (min=0,max = 10,    value= 0,    description=\"f2_czas_na_alum\", style = style )\n",
        "f3_czas_na_alum = IntSlider     (min=0,max = 10,    value= 3,    description=\"f3_czas_na_alum\", style = style )\n",
        "f1_czas_na_drewno = IntSlider   (min=0,max = 10,    value= 0,    description=\"f1_czas_na_drewno\", style = style )\n",
        "f2_czas_na_drewno = IntSlider   (min=0,max = 10,    value= 2,    description=\"f2_czas_na_drewno\", style = style )\n",
        "f3_czas_na_drewno = IntSlider   (min=0,max = 10,    value= 2,    description=\"f3_czas_na_drewno\", style = style )\n",
        "\n",
        "#definicja wartosci domyslnych\n",
        "def problem_maskymalizacji( \n",
        "    zysk_z_aluminiowych= 3000,\n",
        "    zysk_z_drewnianych = 5000,\n",
        "    f1_caly_czas = 20,\n",
        "    f2_caly_czas = 20,\n",
        "    f3_caly_czas = 20,\n",
        "    f1_czas_na_alum = 10,\n",
        "    f2_czas_na_alum = 10,\n",
        "    f3_czas_na_alum = 10,\n",
        "    f1_czas_na_drewno = 10,\n",
        "    f2_czas_na_drewno = 10,\n",
        "    f3_czas_na_drewno = 10):\n",
        "\n",
        "#main problem\n",
        "prob = LpProblem(\"Windows Problem\",LpMaximize)\n",
        "\n",
        "\n",
        "\n",
        "# The 2 variables, alum windows and wood windows\n",
        "x1=LpVariable(\"Okna aluminiowe\",0,None,LpInteger)\n",
        "x2=LpVariable(\"Okna drewniane\",0,None,LpInteger)\n",
        "\n",
        "\n",
        "\n",
        "# Profit maximalization \n",
        "prob += 3000*x1 + 5000*x2, \"Total profit from windows sales\"\n",
        "\n",
        "\n",
        "\n",
        "# Limitations\n",
        "prob += 1*x1 <= 4, \"Factory 1\"\n",
        "prob += 2*x2 <= 12, \"Factory 2\"\n",
        "prob += 3*x1 + 2*x2 <= 18, \"Factory 3\"\n",
        "\n",
        "prob.writeLP(\"WindowsModel.lp\")\n",
        "\n",
        "prob.solve()\n",
        "print(\"Status:\", LpStatus[prob.status],)\n",
        "\n",
        "print(\"Wyprodukowano:\")\n",
        "for v in prob.variables():\n",
        "    print(v.name, \":\", v.varValue)\n",
        "\n",
        "print (\"Profit:\",value(prob.objective),\"zł\")\n",
        "print(\"-\"*50)\n",
        "\n"
      ],
      "execution_count": 16,
      "outputs": [
        {
          "output_type": "stream",
          "text": [
            "Status: Optimal\n",
            "Wyprodukowano:\n",
            "Okna_aluminiowe : 2.0\n",
            "Okna_drewniane : 6.0\n",
            "Profit: 36000.0 zł\n",
            "--------------------------------------------------\n"
          ],
          "name": "stdout"
        },
        {
          "output_type": "stream",
          "text": [
            "/usr/local/lib/python3.6/dist-packages/pulp/pulp.py:1198: UserWarning: Spaces are not permitted in the name. Converted to '_'\n",
            "  warnings.warn(\"Spaces are not permitted in the name. Converted to '_'\")\n"
          ],
          "name": "stderr"
        }
      ]
    },
    {
      "cell_type": "code",
      "metadata": {
        "id": "6Wes4-ePnRKE"
      },
      "source": [
        "\"\"\"\n",
        "Windows with widgets\n",
        "\n",
        "Authors: Daniel Sobczak  2020\n",
        "\"\"\"\n",
        "\n",
        "from pulp import *\n",
        "import pandas as pd\n",
        "\n",
        "prob = LpProblem(\"Windows Problem\",LpMaximize)\n",
        "\n",
        "# The 2 variables, alum windows and wood windows\n",
        "x1=LpVariable(\"Okna aluminiowe\",0,None,LpInteger)\n",
        "x2=LpVariable(\"Okna drewniane\",0,None,LpInteger)\n"
      ],
      "execution_count": null,
      "outputs": []
    }
  ]
}