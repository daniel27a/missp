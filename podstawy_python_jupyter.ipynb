{
  "nbformat": 4,
  "nbformat_minor": 0,
  "metadata": {
    "kernelspec": {
      "display_name": "Python 3",
      "language": "python",
      "name": "python3"
    },
    "language_info": {
      "codemirror_mode": {
        "name": "ipython",
        "version": 3
      },
      "file_extension": ".py",
      "mimetype": "text/x-python",
      "name": "python",
      "nbconvert_exporter": "python",
      "pygments_lexer": "ipython3",
      "version": "3.8.3"
    },
    "colab": {
      "name": "podstawy_python_jupyter.ipynb",
      "provenance": [],
      "collapsed_sections": [],
      "include_colab_link": true
    }
  },
  "cells": [
    {
      "cell_type": "markdown",
      "metadata": {
        "id": "view-in-github",
        "colab_type": "text"
      },
      "source": [
        "<a href=\"https://colab.research.google.com/github/daniel27a/missp/blob/main/podstawy_python_jupyter.ipynb\" target=\"_parent\"><img src=\"https://colab.research.google.com/assets/colab-badge.svg\" alt=\"Open In Colab\"/></a>"
      ]
    },
    {
      "cell_type": "code",
      "metadata": {
        "id": "pnYhQb2Cbe7y",
        "outputId": "7f71aeda-daa1-43af-d82f-ed213c828457"
      },
      "source": [
        "# komentarz\n",
        "\n",
        "# if\n",
        "\n",
        "wielkosc = 7\n",
        "\n",
        "print(wielkosc)"
      ],
      "execution_count": null,
      "outputs": [
        {
          "output_type": "stream",
          "text": [
            "7\n"
          ],
          "name": "stdout"
        }
      ]
    },
    {
      "cell_type": "code",
      "metadata": {
        "scrolled": true,
        "id": "yUheFDQWbe71",
        "outputId": "2977617d-2607-43cf-a28a-22d711049599"
      },
      "source": [
        "if wielkosc >6:\n",
        "    print(\"ale duze\")\n",
        "elif wielkosc < 3:\n",
        "    print(\"malutkie\")\n",
        "    print('franek')\n",
        "else:\n",
        "    print(\"w sam raz\")"
      ],
      "execution_count": null,
      "outputs": [
        {
          "output_type": "stream",
          "text": [
            "ale duze\n"
          ],
          "name": "stdout"
        }
      ]
    },
    {
      "cell_type": "code",
      "metadata": {
        "id": "7aFwP83Sbe74",
        "outputId": "ddf9e39c-2272-4dc9-d3df-0274c7e6b2a9",
        "colab": {
          "base_uri": "https://localhost:8080/",
          "height": 34
        }
      },
      "source": [
        "studenci = [\"Ania\", \"Zosia\", \"Kasia\", \"Franek\"]\n",
        "\n",
        "print(studenci)"
      ],
      "execution_count": null,
      "outputs": [
        {
          "output_type": "stream",
          "text": [
            "['Ania', 'Zosia', 'Kasia', 'Franek']\n"
          ],
          "name": "stdout"
        }
      ]
    },
    {
      "cell_type": "code",
      "metadata": {
        "id": "IRAvdIpxbe76",
        "outputId": "f45f3c4a-e25c-45f5-bd2c-1d70b48eebfe"
      },
      "source": [
        "studenci[0],studenci[1]"
      ],
      "execution_count": null,
      "outputs": [
        {
          "output_type": "execute_result",
          "data": {
            "text/plain": [
              "('Ania', 'Zosia')"
            ]
          },
          "metadata": {
            "tags": []
          },
          "execution_count": 9
        }
      ]
    },
    {
      "cell_type": "code",
      "metadata": {
        "scrolled": true,
        "id": "RO7EPTuKbe78",
        "outputId": "f2371b97-fb28-4348-cb06-07677b5903d3",
        "colab": {
          "base_uri": "https://localhost:8080/",
          "height": 170
        }
      },
      "source": [
        "for student in studenci:\n",
        "    print(\"studenciak ma na imie:\", student)\n",
        "    \n",
        "for student in studenci:\n",
        "    print(student)\n",
        "    if student[0]==\"A\":\n",
        "        print(\"student na poczatku alfabetu\")"
      ],
      "execution_count": null,
      "outputs": [
        {
          "output_type": "stream",
          "text": [
            "studenciak ma na imie: Ania\n",
            "studenciak ma na imie: Zosia\n",
            "studenciak ma na imie: Kasia\n",
            "studenciak ma na imie: Franek\n",
            "Ania\n",
            "student na poczatku alfabetu\n",
            "Zosia\n",
            "Kasia\n",
            "Franek\n"
          ],
          "name": "stdout"
        }
      ]
    },
    {
      "cell_type": "code",
      "metadata": {
        "id": "hDa2lQkFbe7-",
        "outputId": "5a856258-b56f-4eb1-a54c-80a1e03badda",
        "colab": {
          "base_uri": "https://localhost:8080/",
          "height": 85
        }
      },
      "source": [
        "for numer, student in enumerate(studenci):\n",
        "    print(\"student {} ma numer {}\".format(student,numer))"
      ],
      "execution_count": null,
      "outputs": [
        {
          "output_type": "stream",
          "text": [
            "student Ania ma numer 0\n",
            "student Zosia ma numer 1\n",
            "student Kasia ma numer 2\n",
            "student Franek ma numer 3\n"
          ],
          "name": "stdout"
        }
      ]
    },
    {
      "cell_type": "code",
      "metadata": {
        "id": "Mtq6Gu4ybe8B",
        "outputId": "f895f9fd-da38-46db-b8a5-9ebecf6cf87e",
        "colab": {
          "base_uri": "https://localhost:8080/",
          "height": 170
        }
      },
      "source": [
        "oceny = [2,2,5,3]\n",
        "\n",
        "for numer, student in enumerate(studenci):\n",
        "    print(\"student {} ma numer {} i ocenę {}\".format(student,numer,oceny[numer]))\n",
        "\n",
        "print(\"--\"*20)    \n",
        "for number, (student, ocena) in enumerate(zip(studenci,oceny)):\n",
        "    print(\"student {} ma numer {} i ocenę {}\".format(student,number,ocena))"
      ],
      "execution_count": null,
      "outputs": [
        {
          "output_type": "stream",
          "text": [
            "student Ania ma numer 0 i ocenę 2\n",
            "student Zosia ma numer 1 i ocenę 2\n",
            "student Kasia ma numer 2 i ocenę 5\n",
            "student Franek ma numer 3 i ocenę 3\n",
            "----------------------------------------\n",
            "student Ania ma numer 0 i ocenę 2\n",
            "student Zosia ma numer 1 i ocenę 2\n",
            "student Kasia ma numer 2 i ocenę 5\n",
            "student Franek ma numer 3 i ocenę 3\n"
          ],
          "name": "stdout"
        }
      ]
    },
    {
      "cell_type": "code",
      "metadata": {
        "id": "sh_L2Azmbe8D",
        "outputId": "559dac43-cdf0-4cdf-f184-9e55aa284b1c",
        "colab": {
          "base_uri": "https://localhost:8080/",
          "height": 68
        }
      },
      "source": [
        "trzy_elementy= [1,2,3]\n",
        "pierwszy,drugi,trzeci= trzy_elementy\n",
        "print (pierwszy)\n",
        "print (drugi)\n",
        "print (trzeci)"
      ],
      "execution_count": null,
      "outputs": [
        {
          "output_type": "stream",
          "text": [
            "1\n",
            "2\n",
            "3\n"
          ],
          "name": "stdout"
        }
      ]
    },
    {
      "cell_type": "code",
      "metadata": {
        "id": "RmVouLf4be8F",
        "outputId": "8fb70ecb-cb30-4b4d-9bd9-2ad4d4289d23"
      },
      "source": [
        "n = 1\n",
        "\n",
        "while(n < 10):\n",
        "    print(n)\n",
        "    n+=1"
      ],
      "execution_count": null,
      "outputs": [
        {
          "output_type": "stream",
          "text": [
            "1\n",
            "2\n",
            "3\n",
            "4\n",
            "5\n",
            "6\n",
            "7\n",
            "8\n",
            "9\n"
          ],
          "name": "stdout"
        }
      ]
    },
    {
      "cell_type": "code",
      "metadata": {
        "id": "6RWqJlhPbe8H"
      },
      "source": [
        "def dodaj_dwa(liczba):\n",
        "    return liczba+2\n",
        "\n",
        "def dodaj_trzy(liczba):\n",
        "    return liczba+3\n",
        "\n",
        "def dodaj_dwie_liczby(liczba1,liczba2)\n",
        "    return liczba1+liczba2\n",
        "\n",
        "\n",
        "dodaj_cztery = lambda liczba:liczba+4"
      ],
      "execution_count": null,
      "outputs": []
    },
    {
      "cell_type": "code",
      "metadata": {
        "id": "3vvnApenbe8K",
        "outputId": "ef8c0193-7dab-4b6a-e32f-6670b004141d"
      },
      "source": [
        "funkcje=[dodaj_dwa,dodaj_trzy,dodaj_cztery]\n",
        "\n",
        "jakis_nr= 10\n",
        "\n",
        "for funkcja in funkcje:\n",
        "    print(funkcja(jakis_nr))"
      ],
      "execution_count": null,
      "outputs": [
        {
          "output_type": "stream",
          "text": [
            "12\n",
            "13\n",
            "14\n"
          ],
          "name": "stdout"
        }
      ]
    },
    {
      "cell_type": "code",
      "metadata": {
        "id": "-q4u19eCbe8L",
        "outputId": "9a3063e2-1092-467f-975e-b42ee5e16bc2"
      },
      "source": [
        "studenci[0]\n",
        "studenci[1:]\n",
        "studenci[:-1]"
      ],
      "execution_count": null,
      "outputs": [
        {
          "output_type": "execute_result",
          "data": {
            "text/plain": [
              "['Ania', 'Zosia', 'Kasia']"
            ]
          },
          "metadata": {
            "tags": []
          },
          "execution_count": 35
        }
      ]
    },
    {
      "cell_type": "code",
      "metadata": {
        "id": "vAX0AXRvbe8N",
        "outputId": "91ac0887-6f6b-4d21-a0f8-4167df18f72a",
        "colab": {
          "base_uri": "https://localhost:8080/",
          "height": 102
        }
      },
      "source": [
        "#### challenge 0.1\n",
        "\n",
        "zajecia = [\"wf\",\"informatyka\",\"relax\",\"mispy\",\"piateczek\"]\n",
        "\n",
        "dnityg= [\"Pon\",\"Wto\",\"Sro\",\"Czwar\",\"Pio\"]\n",
        "\n",
        "# wyprintuj zajecia od srody do piatku\n",
        "print (zajecia[2:])\n",
        "# wyprintuj oprocz srody\n",
        "for dzien, dzien_tygodnia in enumerate(dnityg):\n",
        "  if (dzien !=2):\n",
        "    print(zajecia[dzien])\n"
      ],
      "execution_count": null,
      "outputs": [
        {
          "output_type": "stream",
          "text": [
            "['relax', 'mispy', 'piateczek']\n",
            "wf\n",
            "informatyka\n",
            "mispy\n",
            "piateczek\n"
          ],
          "name": "stdout"
        }
      ]
    },
    {
      "cell_type": "code",
      "metadata": {
        "id": "gsMImZUebe8R",
        "outputId": "c0d035ec-2167-48ff-b72a-9abff4be0291",
        "colab": {
          "base_uri": "https://localhost:8080/",
          "height": 204
        }
      },
      "source": [
        "#### challenge 0.2\n",
        " \n",
        "zajecia = [[\"wf\"],\n",
        "           [\"informatyka\", \"nauka czytania\"],\n",
        "           [\"relax\", \"jedzenie\"],\n",
        "           [\"mispy\",\"mispy w domu\"],\n",
        "           [\"piateczek\", \"praca domowa z mispow\", \"Ilovemispy\", \"mispy w czasie snu\"]\n",
        "          ]\n",
        " \n",
        "dnityg= [\"Pon\",\"Wto\",\"Sro\",\"Czwar\",\"Pio\"]\n",
        " \n",
        "# zdefiniuj funkcje ktora poda ile jest zajec danego dnia\n",
        "def func_ile_zajec (lista_zajec_z_dnia):  #zdefiniowanie funkcji która za argument przyjmuje listę zajęć z danego dnia\n",
        "    return len(lista_zajec_z_dnia)        #funkcja zwraca ilości zajęć w danym dniu\n",
        " \n",
        "# lista_zajec_z_dnia -> ile ich jest\n",
        "for i in range(len(dnityg)): \n",
        "    print(dnityg[i],func_ile_zajec(zajecia[i])) #wypisanie dni tygodnia i ilości zajeć w każdym dniu\n",
        "\n",
        "print()\n",
        "print()\n",
        "# po\n",
        "# posortuj dni po najbardziej zajetych\n",
        "\n",
        "# def sortuj_wg_ilosci_zajec(dnityg, zajecia):\n",
        "#   for j in range(len(dnityg)):\n",
        "#     for i in range(len(dnityg) - 1):\n",
        "#       if len(zajecia[i]) < len(zajecia[i+1]):                     #liczy ilość zajęć danego dnia i dnia następnego i sprawdza nierówność\n",
        "#         dnityg[i], dnityg[i+1] = dnityg[i+1], dnityg[i]           #zamienia miejscami dni tygodnia \n",
        "#         zajecia[i], zajecia[i+1] = zajecia[i+1], zajecia[i]       #i elementy w tablicy zajecia\n",
        "#   return dnityg\n",
        "\n",
        "def sortuj_wg_funkcji(dnityg, zajecia, funkcja_porownujaca):\n",
        "  # for j, i in range(len(dnityg)), range(len(dnityg) - 1):\n",
        "  for j in range(len(dnityg)):\n",
        "    for i in range(len(dnityg) - 1):\n",
        "      if funkcja_porownujaca(zajecia[i]) < funkcja_porownujaca(zajecia[i+1]):       #podstawia zajecia[i] do przekazanej funkcji porównującej i sprawdza nierówność\n",
        "        dnityg[i], dnityg[i+1] = dnityg[i+1], dnityg[i]                             #zamienia miejscami dni tygodnia \n",
        "        zajecia[i], zajecia[i+1] = zajecia[i+1], zajecia[i]                         #i elementy w tablicy zajecia\n",
        "  return dnityg\n",
        "\n",
        "print(sortuj_wg_funkcji(dnityg, zajecia, len))\n",
        "print()\n",
        "print()\n",
        "\n",
        "#### challenge 0.3\n",
        "# napisz program ktory zdajdzie dzien z najwieksza iloscia mispow\n",
        "def licz_mispy(dzien):\n",
        "  licznik = 0\n",
        "  for i in range(len(dzien)):\n",
        "    if 'misp' in dzien[i]:\n",
        "      licznik += 1\n",
        "  return licznik\n",
        "\n",
        "# def sortuj_wg_mispow(dnityg, zajecia):\n",
        "# for j in range(len(dnityg)):\n",
        "#   for i in range(len(dnityg) - 1):\n",
        "#     if licz_mispy(zajecia[i]) < licz_mispy(zajecia[i+1]):       #liczy ilość wystąpień mispów danego dnia i dnia następnego i sprawdza nierówność\n",
        "#       dnityg[i], dnityg[i+1] = dnityg[i+1], dnityg[i]           #zamienia miejscami dni tygodnia \n",
        "#       zajecia[i], zajecia[i+1] = zajecia[i+1], zajecia[i]       #i elementy w tablicy zajecia\n",
        "# return dnityg\n",
        "\n",
        "print(\"Dzien z największą ilością mispów:\", sortuj_wg_funkcji(dnityg, zajecia, licz_mispy)[0])\n"
      ],
      "execution_count": null,
      "outputs": [
        {
          "output_type": "stream",
          "text": [
            "Pon 1\n",
            "Wto 2\n",
            "Sro 2\n",
            "Czwar 2\n",
            "Pio 4\n",
            "\n",
            "\n",
            "['Pio', 'Wto', 'Sro', 'Czwar', 'Pon']\n",
            "\n",
            "\n",
            "Dzien z największą ilością mispów: Pio\n"
          ],
          "name": "stdout"
        }
      ]
    },
    {
      "cell_type": "code",
      "metadata": {
        "id": "Vr5S3ekJbe8T",
        "outputId": "8ee32fb2-fccf-47b9-c675-4623db9a7390",
        "colab": {
          "base_uri": "https://localhost:8080/",
          "height": 51
        }
      },
      "source": [
        "len(zajecia)\n",
        "\n",
        "zajecia[4][1]\n",
        "\n",
        "\"Ma\" in \"MojaMaMa\"\n",
        "\n",
        "liczby=[\"22\",\"11\",\"33\",\"100\"]\n",
        "liczby_i_nazwy= [(\"22\",\"dwadziescia dwa\"),\n",
        "                 (\"11\",\"jedenascie\"),\n",
        "        (\"33\",\"trzydziesci trzy\"),(\"100\",\"sto\")]\n",
        "sorted(liczby)\n",
        "\n",
        "print(sorted(liczby, key=int))\n",
        "\n",
        "liczby_kolejnosc= enumerate(liczby)\n",
        "\n",
        "def czy_jest_jeden(liczba):\n",
        "\n",
        "    if \"1\" in liczba:\n",
        "        return 1\n",
        "    else:\n",
        "        return 0\n",
        "def na_liczbe(krotka):\n",
        "         return int(krotka[0])\n",
        "def na_liczbe_index(krotka):\n",
        "         return int(krotka[1])    \n",
        "sorted(liczby, key=czy_jest_jeden)\n",
        "         \n",
        "sorted(liczby_i_nazwy,key=na_liczbe)\n",
        "\n",
        "sorted(liczby_kolejnosc,key=na_liczbe_index)"
      ],
      "execution_count": null,
      "outputs": [
        {
          "output_type": "stream",
          "text": [
            "['11', '22', '33', '100']\n"
          ],
          "name": "stdout"
        },
        {
          "output_type": "execute_result",
          "data": {
            "text/plain": [
              "[(1, '11'), (0, '22'), (2, '33'), (3, '100')]"
            ]
          },
          "metadata": {
            "tags": []
          },
          "execution_count": 71
        }
      ]
    },
    {
      "cell_type": "code",
      "metadata": {
        "id": "ZMuuWERLbe8V",
        "outputId": "72af908a-a315-4279-e4c0-2021d8244242"
      },
      "source": [
        "sorted(liczby_kolejnosc,key=)"
      ],
      "execution_count": null,
      "outputs": [
        {
          "output_type": "execute_result",
          "data": {
            "text/plain": [
              "<enumerate at 0x7f5efea012d0>"
            ]
          },
          "metadata": {
            "tags": []
          },
          "execution_count": 48
        }
      ]
    },
    {
      "cell_type": "code",
      "metadata": {
        "id": "4VmIwLMMbe8X"
      },
      "source": [
        ""
      ],
      "execution_count": null,
      "outputs": []
    }
  ]
}